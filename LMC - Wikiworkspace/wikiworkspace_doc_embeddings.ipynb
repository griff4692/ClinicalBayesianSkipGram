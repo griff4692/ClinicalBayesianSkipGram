{
 "cells": [
  {
   "cell_type": "code",
   "execution_count": 1,
   "metadata": {},
   "outputs": [],
   "source": [
    "import glob,os\n",
    "import sys\n",
    "import pandas as pd\n",
    "import string\n",
    "import numpy as np\n",
    "from tqdm import tqdm\n",
    "from time import sleep\n",
    "import sys\n",
    "from gensim.corpora import WikiCorpus\n",
    "from multiprocessing import Pool\n",
    "import json\n",
    "import pickle\n",
    "from collections import defaultdict\n",
    "import gc\n",
    "import torch\n",
    "from scipy import sparse\n",
    "from scipy.sparse import dok_matrix"
   ]
  },
  {
   "cell_type": "code",
   "execution_count": 2,
   "metadata": {},
   "outputs": [],
   "source": [
    "class Vocab:\n",
    "    PAD_TOKEN = '<pad>'\n",
    "\n",
    "    def __init__(self):\n",
    "        self.w2i = {}\n",
    "        self.i2w = []\n",
    "        self.support = []\n",
    "        self.add_token(Vocab.PAD_TOKEN)\n",
    "        self.cached_neg_sample_prob = None\n",
    "\n",
    "    def pad_id(self):\n",
    "        return self.get_id(Vocab.PAD_TOKEN)\n",
    "\n",
    "    def add_tokens(self, tokens):\n",
    "        for tidx, token in enumerate(tokens):\n",
    "            self.add_token(token)\n",
    "\n",
    "    def add_token(self, token, token_support=1):\n",
    "        if token not in self.w2i:\n",
    "            self.w2i[token] = len(self.i2w)\n",
    "            self.i2w.append(token)\n",
    "            self.support.append(0)\n",
    "        self.support[self.get_id(token)] += token_support\n",
    "\n",
    "    def neg_sample(self, size=None):\n",
    "        if self.cached_neg_sample_prob is None:\n",
    "            support = np.array(self.support)\n",
    "            support_raised = np.power(support, 0.75)\n",
    "            support_raised[0] = 0.0  # Never select padding idx\n",
    "            self.cached_neg_sample_prob = support_raised / support_raised.sum()\n",
    "        return np.random.choice(np.arange(self.size()), size=size, p=self.cached_neg_sample_prob)\n",
    "\n",
    "    def get_id(self, token):\n",
    "        if token in self.w2i:\n",
    "            return self.w2i[token]\n",
    "        return -1\n",
    "\n",
    "    def id_count(self, id):\n",
    "        return self.support[id]\n",
    "\n",
    "    def token_count(self, token):\n",
    "        return self.id_count(self.get_id(token))\n",
    "\n",
    "    def get_ids(self, tokens):\n",
    "        return list(map(self.get_id, tokens))\n",
    "\n",
    "    def get_token(self, id):\n",
    "        return self.i2w[id]\n",
    "\n",
    "    def size(self):\n",
    "        return len(self.i2w)"
   ]
  },
  {
   "cell_type": "code",
   "execution_count": 6,
   "metadata": {},
   "outputs": [],
   "source": [
    "class extract_data:\n",
    "\n",
    "    def __init__(self,data_path,path,keep_prob):\n",
    "        self.X = []\n",
    "        self.vocab = []\n",
    "        self.tokens = []\n",
    "        self.keep_prob = []\n",
    "        self.subsampled_ids = []\n",
    "        self.tokenized_subsampled_data = []\n",
    "        self.data_path = data_path\n",
    "        self.path = path\n",
    "        self.keep_prob = keep_prob\n",
    "        \n",
    "    def make_corpus(self,in_f, out_f):\n",
    "        print(\"Loading data\")\n",
    "        wiki = WikiCorpus(in_f)\n",
    "        print(\"Processing...\")\n",
    "        i = 1\n",
    "        for document in wiki.get_texts():\n",
    "            out_f_ = ''.join([out_f,'\\\\wiki_en_',str(i),\".txt\"])\n",
    "            output = open(out_f_, 'w',encoding='utf-8')\n",
    "            output.write(' '.join(document))\n",
    "            output.close()\n",
    "            i+=1\n",
    "            if i%10000 == 0:  \n",
    "                print(i,\"documents procecessed\")\n",
    "        print('Processing complete!')\n",
    "\n",
    "    def read_data(self):\n",
    "            X = []\n",
    "            keep_prob = self.keep_prob\n",
    "            print(\"Reading txt data\")\n",
    "            os.chdir(self.data_path)\n",
    "            N = len(glob.glob(\"*.txt\"))\n",
    "            #choice = np.random.choice(N, sample_size, replace=False)+1\n",
    "            for i in tqdm(range(1,N+1), position=0, leave=True):\n",
    "                if np.random.binomial(1, keep_prob):\n",
    "                    text = ''.join([self.data_path,\"\\\\wiki_en_\",str(i),\".txt\"])\n",
    "                    with open(text,'r',encoding='utf-8') as f:\n",
    "                        X.append(''.join(list(f)).lower())\n",
    "                else:\n",
    "                    pass\n",
    "            print(\"Saving sampled wiki data, sample rate:\",keep_prob)\n",
    "            with open(self.path + 'Wiki_tokenized{}.json'.format(''), 'w') as fd:\n",
    "                json.dump(list(zip(range(len(X)),X)), fd)\n",
    "    \n",
    "    def token_counts(self):\n",
    "        print(\"Generating token counts\")\n",
    "        token_cts = defaultdict(int)\n",
    "        doc_id = 0\n",
    "        token_counts_fn = self.path + 'Wiki_tokenized{}.json'.format('')\n",
    "        with open(token_counts_fn, 'r') as fd:\n",
    "            X = json.load(fd)\n",
    "        for doc in X:\n",
    "            for token in doc[1].split():\n",
    "                token_cts[token] += 1\n",
    "                token_cts['__ALL__'] += 1\n",
    "        print(\"Saving token counts\")\n",
    "        with open(self.path + 'Wiki_token_counts{}.json'.format(''), 'w') as fd:\n",
    "            json.dump(token_cts, fd)\n",
    "    \n",
    "    def subsample(self):\n",
    "        print(\"Sub-sampling tokens...\")\n",
    "        tokenized_fp = self.path + 'Wiki_tokenized'\n",
    "        token_counts_fp = self.path + 'Wiki_token_counts'\n",
    "        subsample_param = 0.001\n",
    "        min_token_count = 5\n",
    "        debug_str = ''\n",
    "        tokenized_data_fn = '{}{}.json'.format(tokenized_fp, debug_str)\n",
    "        with open(tokenized_data_fn, 'r') as fd:\n",
    "            tokenized_data = json.load(fd)\n",
    "        token_counts_fn = '{}{}.json'.format(token_counts_fp, debug_str)\n",
    "        with open(token_counts_fn, 'r') as fd:\n",
    "            token_counts = json.load(fd)\n",
    "        N = float(token_counts['__ALL__'])\n",
    "        # And vocabulary with word counts\n",
    "        self.vocab = Vocab()\n",
    "        num_docs = len(tokenized_data)\n",
    "        for doc_idx in tqdm(range(num_docs), position=0, leave=True):\n",
    "            category, tokenized_doc_str = tokenized_data[doc_idx]\n",
    "            subsampled_doc = []\n",
    "            for token in tokenized_doc_str.split():\n",
    "                wc = token_counts[token]\n",
    "                too_sparse = wc <= min_token_count\n",
    "                if too_sparse:\n",
    "                    continue\n",
    "                frac = wc / N\n",
    "                keep_prob = min((np.sqrt(frac / subsample_param) + 1) * (subsample_param / frac), 1.0)\n",
    "                should_keep = np.random.binomial(1, keep_prob) == 1\n",
    "                if should_keep:\n",
    "                    subsampled_doc.append(token)\n",
    "                    self.vocab.add_token(token, token_support=1)\n",
    "            self.tokenized_subsampled_data.append((category-1, ' '.join(subsampled_doc)))\n",
    "            \n",
    "    def tokens_to_ids(self):\n",
    "        print(\"Converting tokens to ids...\")\n",
    "        for i in tqdm(range(len(self.tokenized_subsampled_data)), position=0, leave=True):\n",
    "            self.subsampled_ids.append(np.asarray([self.vocab.get_id(x) for x in self.tokenized_subsampled_data[i][1].split()]))\n",
    "        self.subsampled_ids = np.asarray(self.subsampled_ids)\n",
    "    \n",
    "    def token_doc_map(self):\n",
    "        print(\"Forming token document matrix... \")\n",
    "        self.token_doc_matrix = dok_matrix((self.vocab.size(),self.subsampled_ids.shape[0]), dtype=np.int16)\n",
    "        for i in tqdm(range(self.subsampled_ids.shape[0]), position=0, leave=True):\n",
    "            for token_id in self.subsampled_ids[i]:\n",
    "                self.token_doc_matrix[token_id,i] +=1"
   ]
  },
  {
   "cell_type": "code",
   "execution_count": 7,
   "metadata": {
    "scrolled": true
   },
   "outputs": [
    {
     "name": "stdout",
     "output_type": "stream",
     "text": [
      "Reading txt data\n"
     ]
    },
    {
     "name": "stderr",
     "output_type": "stream",
     "text": [
      "100%|████████████████████████████████████████████████████████████████████████| 100527/100527 [00:51<00:00, 1942.64it/s]\n"
     ]
    },
    {
     "name": "stdout",
     "output_type": "stream",
     "text": [
      "Saving sampled wiki data, sample rate: 1\n",
      "Generating token counts\n",
      "Saving token counts\n",
      "Sub-sampling tokens...\n"
     ]
    },
    {
     "name": "stderr",
     "output_type": "stream",
     "text": [
      "100%|█████████████████████████████████████████████████████████████████████████| 100527/100527 [02:32<00:00, 660.44it/s]\n",
      "  0%|▎                                                                          | 404/100527 [00:00<00:24, 4011.08it/s]"
     ]
    },
    {
     "name": "stdout",
     "output_type": "stream",
     "text": [
      "Converting tokens to ids...\n"
     ]
    },
    {
     "name": "stderr",
     "output_type": "stream",
     "text": [
      "100%|████████████████████████████████████████████████████████████████████████| 100527/100527 [00:10<00:00, 9495.61it/s]\n",
      "  0%|                                                                             | 3/100527 [00:00<1:01:17, 27.34it/s]"
     ]
    },
    {
     "name": "stdout",
     "output_type": "stream",
     "text": [
      "Forming token document matrix... \n"
     ]
    },
    {
     "name": "stderr",
     "output_type": "stream",
     "text": [
      "100%|█████████████████████████████████████████████████████████████████████████| 100527/100527 [11:05<00:00, 150.97it/s]\n"
     ]
    }
   ],
   "source": [
    "in_f = \"D:\\Latent Meaning Cells\\simplewiki-latest-pages-articles.xml.bz2\"\n",
    "out_f = 'D:\\Latent Meaning Cells\\simplewiki'\n",
    "\n",
    "data_path =  \"D:\\\\Latent Meaning Cells\\\\simplewiki\" #path where you read txt files\n",
    "path = \"D:\\\\Latent Meaning Cells\\\\\" #path where you output json files\n",
    "\n",
    "wiki_data = extract_data(data_path,path,keep_prob = 1)\n",
    "#wiki_data.make_corpus(in_f, out_f)\n",
    "try:\n",
    "    p = Pool(processes=10)\n",
    "    p.apply(wiki_data.read_data()) #run if you want to read txt files\n",
    "except:\n",
    "    p.close()\n",
    "    wiki_data.token_counts() #if you already have json files start from here\n",
    "    wiki_data.subsample()\n",
    "    wiki_data.tokens_to_ids()\n",
    "    wiki_data.token_doc_map()"
   ]
  },
  {
   "cell_type": "code",
   "execution_count": 8,
   "metadata": {},
   "outputs": [],
   "source": [
    "sub_tokens = wiki_data.subsampled_ids\n",
    "vocab = wiki_data.vocab\n",
    "token_doc_matrix = wiki_data.token_doc_matrix"
   ]
  },
  {
   "cell_type": "code",
   "execution_count": 9,
   "metadata": {},
   "outputs": [],
   "source": [
    "#filename = \"D:\\Latent Meaning Cells\\\\vocab.obj\" \n",
    "#file_pi = open(filename, 'wb')\n",
    "#pickle.dump(vocab, file_pi)"
   ]
  },
  {
   "cell_type": "markdown",
   "metadata": {},
   "source": [
    "If already extracted:"
   ]
  },
  {
   "cell_type": "code",
   "execution_count": 10,
   "metadata": {},
   "outputs": [],
   "source": [
    "#filename = \"D:\\Latent Meaning Cells\\sub_tokens.obj\"\n",
    "#filehandler = open(filename, 'rb')\n",
    "#sub_tokens = pickle.load(filehandler)"
   ]
  },
  {
   "cell_type": "code",
   "execution_count": 11,
   "metadata": {},
   "outputs": [],
   "source": [
    "#filename = \"D:\\Latent Meaning Cells\\\\vocab.obj\"\n",
    "#filehandler = open(filename, 'rb')\n",
    "#vocab = pickle.load(filehandler)"
   ]
  },
  {
   "cell_type": "code",
   "execution_count": 12,
   "metadata": {},
   "outputs": [],
   "source": [
    "class batcher:\n",
    "\n",
    "    def __init__(self,batch_size,window_size,vocab,sub_tokens):\n",
    "\n",
    "        self.batch_size = batch_size\n",
    "        self.window_size = window_size\n",
    "        self.vocab = vocab\n",
    "        self.sub_tokens = sub_tokens\n",
    "        \n",
    "        self.vocab_tokens = np.linspace(1, vocab.size()-1, num=vocab.size()-1).astype(int)\n",
    "        #self.prob = np.power(vocab.support[1:], 0.75)\n",
    "        #self.prob = self.prob/np.sum(self.prob)\n",
    "        \n",
    "    def next(self):\n",
    "        \n",
    "        sub_tokens = self.sub_tokens\n",
    "        batch_size = self.batch_size\n",
    "        window_size = self.window_size\n",
    "        #prob = self.prob\n",
    "        \n",
    "        center_words = np.zeros(batch_size)\n",
    "        vocab_tokens =self.vocab_tokens\n",
    "        num_contexts = np.zeros(batch_size)\n",
    "        \n",
    "        positive_words = np.zeros((batch_size,window_size*2))\n",
    "        negative_words = np.zeros((batch_size,window_size*2))\n",
    "        doc_ids = np.random.choice(len(sub_tokens),batch_size)\n",
    "        len_docs = np.asarray([x.shape[0] for x in sub_tokens[doc_ids]])\n",
    "        center_index = np.asarray([np.random.choice(x) for x in len_docs])\n",
    "        upper_index = np.minimum(center_index+window_size,len_docs-1).astype(int)\n",
    "        lower_index = np.maximum(center_index-window_size,np.zeros(batch_size)).astype(int)\n",
    "            \n",
    "        for i in range(batch_size):\n",
    "        \n",
    "            positive_sub_batch = np.linspace(lower_index[i],upper_index[i], num=upper_index[i]-lower_index[i]+1)\n",
    "            positive_sub_batch = positive_sub_batch[positive_sub_batch != center_index[i]].astype(int)\n",
    "            \n",
    "            num_contexts[i] = positive_sub_batch.shape[0]\n",
    "            \n",
    "            document = sub_tokens[doc_ids[i]]\n",
    "            positive_sub_batch = np.asarray([document[x] for x in positive_sub_batch]).astype(int)\n",
    "            positive_words[i,:positive_sub_batch.shape[0]] = positive_sub_batch\n",
    "\n",
    "            center_words[i] = document[center_index[i]]\n",
    "            \n",
    "            #negative_words_ = vocab_tokens[~np.isin(vocab_tokens, positive_sub_batch)]\n",
    "            #negative_sampling_probability = prob[~np.isin(vocab_tokens, positive_sub_batch)]\n",
    "            #negative_sampling_probability = negative_sampling_probability/np.sum(negative_sampling_probability)\n",
    "            #negative_words[i] = np.random.choice(negative_words_, window_size*2, p=negative_sampling_probability).astype(int)\n",
    "            \n",
    "            negative_words[i] = vocab.neg_sample(window_size*2)\n",
    "            \n",
    "        return doc_ids.astype(int), center_words.astype(int), positive_words.astype(int), negative_words.astype(int),num_contexts.astype(int)"
   ]
  },
  {
   "cell_type": "code",
   "execution_count": 13,
   "metadata": {},
   "outputs": [],
   "source": [
    "def mask_2D(target_size, num_contexts):\n",
    "    mask = torch.BoolTensor(target_size)\n",
    "    mask.fill_(0)\n",
    "    for batch_idx, num_c in enumerate(num_contexts):\n",
    "        if num_c < target_size[1]:\n",
    "            mask[batch_idx, num_c:] = 1\n",
    "    return mask"
   ]
  },
  {
   "cell_type": "code",
   "execution_count": 14,
   "metadata": {},
   "outputs": [],
   "source": [
    "import numpy as np\n",
    "import torch\n",
    "import torch.nn as nn\n",
    "\n",
    "\n",
    "class VAE(nn.Module):\n",
    "    def __init__(self, device,encoder_input_dim,encoder_hidden_dim,latent_dim, token_vocab_size, section_vocab_size):\n",
    "        super(VAE, self).__init__()\n",
    "        self.device = device\n",
    "        self.encoder = Encoder(encoder_input_dim,encoder_hidden_dim,latent_dim, token_vocab_size, section_vocab_size)\n",
    "        self.margin = 1.0\n",
    "\n",
    "    def forward(self, center_ids, section_ids, context_ids, neg_context_ids,num_context_ids):\n",
    "        \"\"\"\n",
    "        :param center_ids: batch_size\n",
    "        :param section_ids: batch_size\n",
    "        :param context_ids: batch_size, 2 * context_window\n",
    "        :param neg_context_ids: batch_size, 2 * context_window\n",
    "        :param num_contexts: batch_size (how many context words for each center id - necessary for masking padding)\n",
    "        :return: cost components: KL-Divergence (q(z|w,c) || p(z|w)) and max margin (reconstruction error)\n",
    "        \"\"\"\n",
    "        # Mask padded context ids\n",
    "        batch_size, num_context_ids = context_ids.size()\n",
    "        mask_size = torch.Size([batch_size, num_context_ids])\n",
    "        mask = mask_2D(mask_size, num_contexts).to(self.device)\n",
    "\n",
    "        # Compute center words\n",
    "        mu_center, sigma_center = self.encoder(center_ids, section_ids)\n",
    "        mu_center_tiled = mu_center.unsqueeze(1).repeat(1, num_context_ids, 1)\n",
    "        sigma_center_tiled = sigma_center.unsqueeze(1).repeat(1, num_context_ids, 1)\n",
    "        mu_center_flat = mu_center_tiled.view(batch_size * num_context_ids, -1)\n",
    "        sigma_center_flat = sigma_center_tiled.view(batch_size * num_context_ids, -1)\n",
    "\n",
    "        # Tile section ids for positive and negative samples\n",
    "        section_ids_tiled = section_ids.unsqueeze(-1).repeat(1, num_context_ids)\n",
    "\n",
    "        # Compute positive and negative encoded samples\n",
    "        mu_pos_context, sigma_pos_context = self.encoder(context_ids, section_ids_tiled)\n",
    "        mu_neg_context, sigma_neg_context = self.encoder(neg_context_ids, section_ids_tiled)\n",
    "        \n",
    "        # Flatten positive context\n",
    "        mu_pos_context_flat = mu_pos_context.view(batch_size * num_context_ids, -1)\n",
    "        sigma_pos_context_flat = sigma_pos_context.view(batch_size * num_context_ids, -1)\n",
    "\n",
    "        # Flatten negative context\n",
    "        mu_neg_context_flat = mu_neg_context.view(batch_size * num_context_ids, -1)\n",
    "        sigma_neg_context_flat = sigma_neg_context.view(batch_size * num_context_ids, -1)\n",
    "\n",
    "        # Compute KL-divergence between center words and negative and reshape\n",
    "        kl_pos_flat = compute_kl(mu_center_flat, sigma_center_flat, mu_pos_context_flat, sigma_pos_context_flat)\n",
    "        kl_neg_flat = compute_kl(mu_center_flat, sigma_center_flat, mu_neg_context_flat, sigma_neg_context_flat)\n",
    "        kl_pos = kl_pos_flat.view(batch_size, num_context_ids)\n",
    "        kl_neg = kl_neg_flat.view(batch_size, num_context_ids)\n",
    "\n",
    "        hinge_loss = (kl_pos - kl_neg + self.margin).clamp_min_(0)\n",
    "        hinge_loss = hinge_loss.masked_fill(mask, 0)\n",
    "        hinge_loss = hinge_loss.sum(1)\n",
    "        return hinge_loss.mean()"
   ]
  },
  {
   "cell_type": "code",
   "execution_count": 15,
   "metadata": {},
   "outputs": [],
   "source": [
    "import numpy as np\n",
    "import torch\n",
    "from torch import nn\n",
    "from torch.nn import functional as F\n",
    "import torch.utils.data\n",
    " \n",
    "class Encoder(nn.Module):\n",
    "    def __init__(self, encoder_input_dim,encoder_hidden_dim,latent_dim, token_vocab_size, section_vocab_size):\n",
    "        super(Encoder, self).__init__()\n",
    "        self.dropout = nn.Dropout(0.2)\n",
    "        self.f = nn.Linear(encoder_input_dim * 2, encoder_hidden_dim, bias=True)\n",
    "        self.u = nn.Linear(encoder_hidden_dim, latent_dim, bias=True)\n",
    "        self.v = nn.Linear(encoder_hidden_dim, 1, bias=True)\n",
    "    \n",
    "        self.token_embeddings = nn.Embedding(token_vocab_size, encoder_input_dim, padding_idx=0)\n",
    "        self.token_embeddings.weight.data.uniform_(-2, 2)\n",
    "        self.section_embeddings = nn.Embedding(section_vocab_size, encoder_input_dim)\n",
    "        self.section_embeddings.weight.data.uniform_(-2, 2)\n",
    "        \n",
    "    def forward(self, center_ids, section_ids):\n",
    "        \"\"\"\n",
    "        :param center_ids: LongTensor of batch_size\n",
    "        :param context_ids: LongTensor of batch_size\n",
    "        :param mask: BoolTensor of batch_size x 2 * context_window (which context_ids are just the padding idx)\n",
    "        :return: mu (batch_size, latent_dim), logvar (batch_size, 1)\n",
    "        \"\"\"\n",
    "        center_embedding = self.token_embeddings(center_ids)\n",
    "        section_embedding = self.section_embeddings(section_ids)\n",
    "            \n",
    "        merged_embeds = self.dropout(torch.cat([center_embedding, section_embedding], dim=-1))\n",
    "            \n",
    "        h = self.dropout(F.relu(self.f(merged_embeds)))\n",
    "        var_clamped = self.v(h).exp().clamp_min(1.0)\n",
    "        return self.u(h), var_clamped"
   ]
  },
  {
   "cell_type": "code",
   "execution_count": 16,
   "metadata": {},
   "outputs": [],
   "source": [
    "def compute_kl(mu_a, sigma_a, mu_b, sigma_b, device=None):\n",
    "    \"\"\"\n",
    "    :param mu_a: mean vector of batch_size x dim\n",
    "    :param sigma_a: standard deviation of batch_size x {1, dim}\n",
    "    :param mu_b: mean vector of batch_size x dim\n",
    "    :param sigma_b: standard deviation of batch_size x {1, dim}\n",
    "    :return: computes KL-Divergence between 2 diagonal Gaussian (a||b)\n",
    "    \"\"\"\n",
    "    var_dim = sigma_a.size()[-1]\n",
    "    assert sigma_b.size()[-1] == var_dim\n",
    "    if var_dim == 1:\n",
    "        return kl_spher(mu_a, sigma_a, mu_b, sigma_b)\n",
    "    return kl_diag(mu_a, sigma_a, mu_b, sigma_b, device=device)"
   ]
  },
  {
   "cell_type": "code",
   "execution_count": 17,
   "metadata": {},
   "outputs": [],
   "source": [
    "def kl_spher(mu_a, sigma_a, mu_b, sigma_b):\n",
    "    \"\"\"\n",
    "    :param mu_a: mean vector of batch_size x dim\n",
    "    :param sigma_a: standard deviation of batch_size x 1\n",
    "    :param mu_b: mean vector of batch_size x dim\n",
    "    :param sigma_b: standard deviation of batch_size x 1\n",
    "    :return: computes KL-Divergence between 2 spherical Gaussian (a||b)\n",
    "    \"\"\"\n",
    "    d = mu_a.shape[1]\n",
    "    sigma_p_inv = 1.0 / sigma_b  # because diagonal\n",
    "    tra = d * sigma_a * sigma_p_inv\n",
    "    quadr = sigma_p_inv * torch.pow(mu_b - mu_a, 2).sum(1, keepdim=True)\n",
    "    log_det = - d * torch.log(sigma_a * sigma_p_inv)\n",
    "    res = 0.5 * (tra + quadr - d + log_det)\n",
    "    return res"
   ]
  },
  {
   "cell_type": "code",
   "execution_count": 18,
   "metadata": {},
   "outputs": [],
   "source": [
    "device=\"cuda\"\n",
    "encoder_input_dim = 100\n",
    "encoder_hidden_dim = 64\n",
    "latent_dim = 100\n",
    "\n",
    "token_vocab_size = vocab.size()\n",
    "section_vocab_size = sub_tokens.shape[0]\n",
    "\n",
    "model = VAE(device,encoder_input_dim,encoder_hidden_dim,latent_dim, token_vocab_size, section_vocab_size).to(device)\n",
    "\n",
    "trainable_params = filter(lambda x: x.requires_grad, model.parameters())\n",
    "optimizer = torch.optim.Adam(trainable_params, lr=0.01)\n",
    "optimizer.zero_grad()"
   ]
  },
  {
   "cell_type": "code",
   "execution_count": 19,
   "metadata": {},
   "outputs": [
    {
     "data": {
      "text/plain": [
       "<All keys matched successfully>"
      ]
     },
     "execution_count": 19,
     "metadata": {},
     "output_type": "execute_result"
    }
   ],
   "source": [
    "model.load_state_dict(torch.load( \"D:\\\\Latent Meaning Cells\\\\checkpoint.pth\"))"
   ]
  },
  {
   "cell_type": "code",
   "execution_count": 57,
   "metadata": {
    "scrolled": true
   },
   "outputs": [
    {
     "name": "stderr",
     "output_type": "stream",
     "text": [
      "\r",
      "  0%|                                                                                           | 0/13 [00:00<?, ?it/s]"
     ]
    },
    {
     "name": "stdout",
     "output_type": "stream",
     "text": [
      "Starting Epoch=1\n"
     ]
    },
    {
     "name": "stderr",
     "output_type": "stream",
     "text": [
      "100%|██████████████████████████████████████████████████████████████████████████████████| 13/13 [02:26<00:00, 11.31s/it]\n"
     ]
    },
    {
     "name": "stdout",
     "output_type": "stream",
     "text": [
      "Saving...\n"
     ]
    },
    {
     "name": "stderr",
     "output_type": "stream",
     "text": [
      "\r",
      "  0%|                                                                                           | 0/13 [00:00<?, ?it/s]"
     ]
    },
    {
     "name": "stdout",
     "output_type": "stream",
     "text": [
      "Epoch=1. Loss=3.006491052982453.\n",
      "Starting Epoch=2\n"
     ]
    },
    {
     "name": "stderr",
     "output_type": "stream",
     "text": [
      "100%|██████████████████████████████████████████████████████████████████████████████████| 13/13 [02:26<00:00, 11.24s/it]\n"
     ]
    },
    {
     "name": "stdout",
     "output_type": "stream",
     "text": [
      "Saving...\n"
     ]
    },
    {
     "name": "stderr",
     "output_type": "stream",
     "text": [
      "\r",
      "  0%|                                                                                           | 0/13 [00:00<?, ?it/s]"
     ]
    },
    {
     "name": "stdout",
     "output_type": "stream",
     "text": [
      "Epoch=2. Loss=2.9857675854485968.\n",
      "Starting Epoch=3\n"
     ]
    },
    {
     "name": "stderr",
     "output_type": "stream",
     "text": [
      "100%|██████████████████████████████████████████████████████████████████████████████████| 13/13 [02:25<00:00, 11.23s/it]\n"
     ]
    },
    {
     "name": "stdout",
     "output_type": "stream",
     "text": [
      "Saving...\n"
     ]
    },
    {
     "name": "stderr",
     "output_type": "stream",
     "text": [
      "\r",
      "  0%|                                                                                           | 0/13 [00:00<?, ?it/s]"
     ]
    },
    {
     "name": "stdout",
     "output_type": "stream",
     "text": [
      "Epoch=3. Loss=2.9779395672451217.\n",
      "Starting Epoch=4\n"
     ]
    },
    {
     "name": "stderr",
     "output_type": "stream",
     "text": [
      "100%|██████████████████████████████████████████████████████████████████████████████████| 13/13 [02:29<00:00, 11.50s/it]\n"
     ]
    },
    {
     "name": "stdout",
     "output_type": "stream",
     "text": [
      "Saving...\n"
     ]
    },
    {
     "name": "stderr",
     "output_type": "stream",
     "text": [
      "\r",
      "  0%|                                                                                           | 0/13 [00:00<?, ?it/s]"
     ]
    },
    {
     "name": "stdout",
     "output_type": "stream",
     "text": [
      "Epoch=4. Loss=2.9667057744355.\n",
      "Starting Epoch=5\n"
     ]
    },
    {
     "name": "stderr",
     "output_type": "stream",
     "text": [
      "100%|██████████████████████████████████████████████████████████████████████████████████| 13/13 [02:21<00:00, 10.87s/it]\n"
     ]
    },
    {
     "name": "stdout",
     "output_type": "stream",
     "text": [
      "Saving...\n"
     ]
    },
    {
     "name": "stderr",
     "output_type": "stream",
     "text": [
      "\r",
      "  0%|                                                                                           | 0/13 [00:00<?, ?it/s]"
     ]
    },
    {
     "name": "stdout",
     "output_type": "stream",
     "text": [
      "Epoch=5. Loss=2.9701183571423697.\n",
      "Starting Epoch=6\n"
     ]
    },
    {
     "name": "stderr",
     "output_type": "stream",
     "text": [
      "100%|██████████████████████████████████████████████████████████████████████████████████| 13/13 [02:27<00:00, 11.33s/it]\n"
     ]
    },
    {
     "name": "stdout",
     "output_type": "stream",
     "text": [
      "Saving...\n"
     ]
    },
    {
     "name": "stderr",
     "output_type": "stream",
     "text": [
      "\r",
      "  0%|                                                                                           | 0/13 [00:00<?, ?it/s]"
     ]
    },
    {
     "name": "stdout",
     "output_type": "stream",
     "text": [
      "Epoch=6. Loss=2.96311836752339.\n",
      "Starting Epoch=7\n"
     ]
    },
    {
     "name": "stderr",
     "output_type": "stream",
     "text": [
      "100%|██████████████████████████████████████████████████████████████████████████████████| 13/13 [02:24<00:00, 11.15s/it]\n"
     ]
    },
    {
     "name": "stdout",
     "output_type": "stream",
     "text": [
      "Saving...\n"
     ]
    },
    {
     "name": "stderr",
     "output_type": "stream",
     "text": [
      "\r",
      "  0%|                                                                                           | 0/13 [00:00<?, ?it/s]"
     ]
    },
    {
     "name": "stdout",
     "output_type": "stream",
     "text": [
      "Epoch=7. Loss=2.967714795400042.\n",
      "Starting Epoch=8\n"
     ]
    },
    {
     "name": "stderr",
     "output_type": "stream",
     "text": [
      "  8%|██████▍                                                                            | 1/13 [00:20<04:06, 20.51s/it]\n"
     ]
    },
    {
     "ename": "KeyboardInterrupt",
     "evalue": "",
     "output_type": "error",
     "traceback": [
      "\u001b[1;31m---------------------------------------------------------------------------\u001b[0m",
      "\u001b[1;31mKeyboardInterrupt\u001b[0m                         Traceback (most recent call last)",
      "\u001b[1;32m<ipython-input-57-0ab4e5339d5e>\u001b[0m in \u001b[0;36m<module>\u001b[1;34m\u001b[0m\n\u001b[0;32m     17\u001b[0m         \u001b[0moptimizer\u001b[0m\u001b[1;33m.\u001b[0m\u001b[0mzero_grad\u001b[0m\u001b[1;33m(\u001b[0m\u001b[1;33m)\u001b[0m\u001b[1;33m\u001b[0m\u001b[1;33m\u001b[0m\u001b[0m\n\u001b[0;32m     18\u001b[0m \u001b[1;33m\u001b[0m\u001b[0m\n\u001b[1;32m---> 19\u001b[1;33m         \u001b[0msection_ids\u001b[0m\u001b[1;33m,\u001b[0m\u001b[0mcenter_ids\u001b[0m\u001b[1;33m,\u001b[0m \u001b[0mcontext_ids\u001b[0m\u001b[1;33m,\u001b[0m \u001b[0mneg_ids\u001b[0m\u001b[1;33m,\u001b[0m\u001b[0mnum_contexts\u001b[0m \u001b[1;33m=\u001b[0m \u001b[0mgenerator\u001b[0m\u001b[1;33m.\u001b[0m\u001b[0mnext\u001b[0m\u001b[1;33m(\u001b[0m\u001b[1;33m)\u001b[0m\u001b[1;33m\u001b[0m\u001b[1;33m\u001b[0m\u001b[0m\n\u001b[0m\u001b[0;32m     20\u001b[0m \u001b[1;33m\u001b[0m\u001b[0m\n\u001b[0;32m     21\u001b[0m         \u001b[0mcenter_ids_tens\u001b[0m \u001b[1;33m=\u001b[0m \u001b[0mtorch\u001b[0m\u001b[1;33m.\u001b[0m\u001b[0mLongTensor\u001b[0m\u001b[1;33m(\u001b[0m\u001b[0mcenter_ids\u001b[0m\u001b[1;33m)\u001b[0m\u001b[1;33m.\u001b[0m\u001b[0mto\u001b[0m\u001b[1;33m(\u001b[0m\u001b[0mdevice\u001b[0m\u001b[1;33m)\u001b[0m\u001b[1;33m\u001b[0m\u001b[1;33m\u001b[0m\u001b[0m\n",
      "\u001b[1;32m<ipython-input-7-67d75d53245a>\u001b[0m in \u001b[0;36mnext\u001b[1;34m(self)\u001b[0m\n\u001b[0;32m     49\u001b[0m             \u001b[1;31m#negative_words[i] = np.random.choice(negative_words_, window_size*2, p=negative_sampling_probability).astype(int)\u001b[0m\u001b[1;33m\u001b[0m\u001b[1;33m\u001b[0m\u001b[1;33m\u001b[0m\u001b[0m\n\u001b[0;32m     50\u001b[0m \u001b[1;33m\u001b[0m\u001b[0m\n\u001b[1;32m---> 51\u001b[1;33m             \u001b[0mnegative_words\u001b[0m\u001b[1;33m[\u001b[0m\u001b[0mi\u001b[0m\u001b[1;33m]\u001b[0m \u001b[1;33m=\u001b[0m \u001b[0mvocab\u001b[0m\u001b[1;33m.\u001b[0m\u001b[0mneg_sample\u001b[0m\u001b[1;33m(\u001b[0m\u001b[0mwindow_size\u001b[0m\u001b[1;33m*\u001b[0m\u001b[1;36m2\u001b[0m\u001b[1;33m)\u001b[0m\u001b[1;33m\u001b[0m\u001b[1;33m\u001b[0m\u001b[0m\n\u001b[0m\u001b[0;32m     52\u001b[0m \u001b[1;33m\u001b[0m\u001b[0m\n\u001b[0;32m     53\u001b[0m         \u001b[1;32mreturn\u001b[0m \u001b[0mdoc_ids\u001b[0m\u001b[1;33m.\u001b[0m\u001b[0mastype\u001b[0m\u001b[1;33m(\u001b[0m\u001b[0mint\u001b[0m\u001b[1;33m)\u001b[0m\u001b[1;33m,\u001b[0m \u001b[0mcenter_words\u001b[0m\u001b[1;33m.\u001b[0m\u001b[0mastype\u001b[0m\u001b[1;33m(\u001b[0m\u001b[0mint\u001b[0m\u001b[1;33m)\u001b[0m\u001b[1;33m,\u001b[0m \u001b[0mpositive_words\u001b[0m\u001b[1;33m.\u001b[0m\u001b[0mastype\u001b[0m\u001b[1;33m(\u001b[0m\u001b[0mint\u001b[0m\u001b[1;33m)\u001b[0m\u001b[1;33m,\u001b[0m \u001b[0mnegative_words\u001b[0m\u001b[1;33m.\u001b[0m\u001b[0mastype\u001b[0m\u001b[1;33m(\u001b[0m\u001b[0mint\u001b[0m\u001b[1;33m)\u001b[0m\u001b[1;33m,\u001b[0m\u001b[0mnum_contexts\u001b[0m\u001b[1;33m.\u001b[0m\u001b[0mastype\u001b[0m\u001b[1;33m(\u001b[0m\u001b[0mint\u001b[0m\u001b[1;33m)\u001b[0m\u001b[1;33m\u001b[0m\u001b[1;33m\u001b[0m\u001b[0m\n",
      "\u001b[1;32m<ipython-input-2-5957829fc14d>\u001b[0m in \u001b[0;36mneg_sample\u001b[1;34m(self, size)\u001b[0m\n\u001b[0;32m     29\u001b[0m             \u001b[0msupport_raised\u001b[0m\u001b[1;33m[\u001b[0m\u001b[1;36m0\u001b[0m\u001b[1;33m]\u001b[0m \u001b[1;33m=\u001b[0m \u001b[1;36m0.0\u001b[0m  \u001b[1;31m# Never select padding idx\u001b[0m\u001b[1;33m\u001b[0m\u001b[1;33m\u001b[0m\u001b[0m\n\u001b[0;32m     30\u001b[0m             \u001b[0mself\u001b[0m\u001b[1;33m.\u001b[0m\u001b[0mcached_neg_sample_prob\u001b[0m \u001b[1;33m=\u001b[0m \u001b[0msupport_raised\u001b[0m \u001b[1;33m/\u001b[0m \u001b[0msupport_raised\u001b[0m\u001b[1;33m.\u001b[0m\u001b[0msum\u001b[0m\u001b[1;33m(\u001b[0m\u001b[1;33m)\u001b[0m\u001b[1;33m\u001b[0m\u001b[1;33m\u001b[0m\u001b[0m\n\u001b[1;32m---> 31\u001b[1;33m         \u001b[1;32mreturn\u001b[0m \u001b[0mnp\u001b[0m\u001b[1;33m.\u001b[0m\u001b[0mrandom\u001b[0m\u001b[1;33m.\u001b[0m\u001b[0mchoice\u001b[0m\u001b[1;33m(\u001b[0m\u001b[0mnp\u001b[0m\u001b[1;33m.\u001b[0m\u001b[0marange\u001b[0m\u001b[1;33m(\u001b[0m\u001b[0mself\u001b[0m\u001b[1;33m.\u001b[0m\u001b[0msize\u001b[0m\u001b[1;33m(\u001b[0m\u001b[1;33m)\u001b[0m\u001b[1;33m)\u001b[0m\u001b[1;33m,\u001b[0m \u001b[0msize\u001b[0m\u001b[1;33m=\u001b[0m\u001b[0msize\u001b[0m\u001b[1;33m,\u001b[0m \u001b[0mp\u001b[0m\u001b[1;33m=\u001b[0m\u001b[0mself\u001b[0m\u001b[1;33m.\u001b[0m\u001b[0mcached_neg_sample_prob\u001b[0m\u001b[1;33m)\u001b[0m\u001b[1;33m\u001b[0m\u001b[1;33m\u001b[0m\u001b[0m\n\u001b[0m\u001b[0;32m     32\u001b[0m \u001b[1;33m\u001b[0m\u001b[0m\n\u001b[0;32m     33\u001b[0m     \u001b[1;32mdef\u001b[0m \u001b[0mget_id\u001b[0m\u001b[1;33m(\u001b[0m\u001b[0mself\u001b[0m\u001b[1;33m,\u001b[0m \u001b[0mtoken\u001b[0m\u001b[1;33m)\u001b[0m\u001b[1;33m:\u001b[0m\u001b[1;33m\u001b[0m\u001b[1;33m\u001b[0m\u001b[0m\n",
      "\u001b[1;32mmtrand.pyx\u001b[0m in \u001b[0;36mnumpy.random.mtrand.RandomState.choice\u001b[1;34m()\u001b[0m\n",
      "\u001b[1;32m<__array_function__ internals>\u001b[0m in \u001b[0;36mprod\u001b[1;34m(*args, **kwargs)\u001b[0m\n",
      "\u001b[1;31mKeyboardInterrupt\u001b[0m: "
     ]
    }
   ],
   "source": [
    "window_size = 5\n",
    "batch_size = 4096*2\n",
    "num_epoch = 300\n",
    "num_contexts = batch_size\n",
    "generator = batcher(batch_size,window_size,vocab,sub_tokens)\n",
    "\n",
    "\n",
    "for epoch in range(1, num_epoch + 1):\n",
    "    sleep(0.1)  # Make sure logging is synchronous with tqdm progress bar\n",
    "    print('Starting Epoch={}'.format(epoch))\n",
    "    generator = batcher(batch_size,window_size,vocab,sub_tokens)\n",
    "    num_batches = batch_size\n",
    "    loss_array = []\n",
    "    epoc_loss = 0\n",
    "    for _ in tqdm(range(int(vocab.size()/num_batches)), position=0, leave=True):\n",
    "        # Reset gradients\n",
    "        optimizer.zero_grad()\n",
    "\n",
    "        section_ids,center_ids, context_ids, neg_ids,num_contexts = generator.next()\n",
    "        \n",
    "        center_ids_tens = torch.LongTensor(center_ids).to(device)\n",
    "        context_ids_tens = torch.LongTensor(context_ids).to(device)\n",
    "        section_ids_tens = torch.LongTensor(section_ids).to(device)\n",
    "        neg_ids_tens = torch.LongTensor(neg_ids).to(device)\n",
    "\n",
    "        loss = model(center_ids_tens, section_ids_tens, context_ids_tens, neg_ids_tens,num_contexts)\n",
    "        loss.backward()  # backpropagate loss\n",
    "        epoc_loss += loss.item()\n",
    "    \n",
    "        \n",
    "\n",
    "        optimizer.step()\n",
    "        \n",
    "    loss_array.append(epoc_loss*num_batches/vocab.size())\n",
    "    if loss_array[-1]<=min(loss_array):\n",
    "        print(\"Saving...\")\n",
    "        torch.save(model.state_dict(), \"D:\\\\Latent Meaning Cells\\\\checkpoint.pth\")\n",
    "        \n",
    "    sleep(0.1)\n",
    "    print('Epoch={}. Loss={}.'.format(epoch, loss_array[-1]))"
   ]
  },
  {
   "cell_type": "code",
   "execution_count": 100,
   "metadata": {},
   "outputs": [
    {
     "data": {
      "text/plain": [
       "204"
      ]
     },
     "execution_count": 100,
     "metadata": {},
     "output_type": "execute_result"
    }
   ],
   "source": [
    "vocab.get_id(\"women\")"
   ]
  },
  {
   "cell_type": "code",
   "execution_count": 20,
   "metadata": {},
   "outputs": [],
   "source": [
    "document_embeddings = np.zeros((sub_tokens.shape[0],100))\n",
    "for i in range(sub_tokens.shape[0]):\n",
    "    document_embeddings[i] = model.encoder.section_embeddings(torch.Tensor(np.asarray([i])).long().to(\"cuda\")).data.to(\"cpu\").numpy()"
   ]
  },
  {
   "cell_type": "code",
   "execution_count": 79,
   "metadata": {},
   "outputs": [],
   "source": [
    "doc = document_embeddings[0]\n",
    "doc = doc/np.sqrt(np.sum(np.dot(doc,doc)))\n",
    "normalized = np.divide(document_embeddings,np.sqrt(np.sum(np.multiply(document_embeddings,document_embeddings),axis = 1)).reshape(-1,1))\n",
    "dist = np.matmul(normalized,doc)"
   ]
  },
  {
   "cell_type": "code",
   "execution_count": 80,
   "metadata": {},
   "outputs": [
    {
     "data": {
      "text/plain": [
       "array([    0,   337,   193, 78440,     1, 51418,    92,   229, 43836,\n",
       "       57940,   265, 11100, 51831, 80349, 57861, 15042,  7742, 43432,\n",
       "       72104,  4787,  5698, 25170,  5837,  5523, 53062,   281, 57939,\n",
       "       15048, 16437,  6535,  5898, 97910, 57880,  6169, 57903, 56852,\n",
       "       57937, 24100, 78234, 55724, 47547, 57925,  9370, 51566,  5694,\n",
       "       57879, 15084, 57875,  4722,   131], dtype=int64)"
      ]
     },
     "execution_count": 80,
     "metadata": {},
     "output_type": "execute_result"
    }
   ],
   "source": [
    "np.argsort(-dist)[:50]"
   ]
  },
  {
   "cell_type": "markdown",
   "metadata": {},
   "source": [
    "## Similar articles, April"
   ]
  },
  {
   "cell_type": "code",
   "execution_count": 81,
   "metadata": {
    "scrolled": true
   },
   "outputs": [
    {
     "name": "stdout",
     "output_type": "stream",
     "text": [
      "april fourth month the year and comes between march may one of four months have days april always begins on same day week july and additionally january leap years april always ends same day of week as december april flowers are sweet pea daisy its birthstone diamond meaning diamond is innocence month spring flowers april in northern hemisphere april comes between march and may making it fourth month of year comes first year out of four months that have days as june september november later year april begins on same day week as july every year on same day week as january leap years april ends same day week as december every year as each other last days are exactly weeks days apart common years april starts on the same day week as october of previous year in leap years may of previous year common years april finishes same day week july previous year leap years february and october previous year common years immediately after other common years april starts same day week as january of previous year and leap years years immediately after that april finishes on same day week january the previous year years immediately before common years april starts on same day of week as september december following year and in years immediately before leap years june following year years immediately before common years april finishes on same day week as september the following year years immediately before leap years march june the following year april spring month the northern hemisphere an autumn fall month in southern hemisphere each hemisphere it is seasonal equivalent october other it unclear as where april got its name common theory that comes latin word meaning open referring flowers opening in spring another theory is that name could come from aphrodite greek goddess of love originally second month old roman calendar before start of new year put january quite few festivals are held this month many southeast asian cultures new year is celebrated this month including songkran western christianity easter can be celebrated on sunday between march april orthodox christianity it can fall between april may at the end month central and northern european cultures celebrate walpurgis night on april marking transition winter into summer april in poetry poets use april mean the end of winter for example april showers bring may flowers events april fixed events an april fools day hoax april in copenhagen songkran celebration thailand around april proposed flag earth day on april saint george day april in london trafalgar square anzac day commemoration australia april queen day april celebration netherlands changed king day april walpurgis night bonfire april sweden april april fools day april islamic republic day iran april international children book day april thai heritage conservation day april world autism awareness day april malvinas day argentina april independence day senegal april international day for landmine awareness assistance april peace day angola april end of tax year united kingdom april tartan day canada and united states april chakri day thailand april day of maternity beauty armenia april genocide memorial day rwanda april world health day april women day mozambique april buddha birthday buddhism april martyrs day tunisia april day national unity georgia april day finnish language april cosmonauts day russia marking the day yuri gagarin space flight april laos local new year celebration april cambodian new year april thomas jefferson birthday united states april southeast asian new year festivals including songkran april georgian language day april youth day angola april ambedkar india april pan american day april tax day united states april kim il sung birthday north korea april father damien day hawaii april jackie robinson day major league baseball april birthday queen margrethe ii denmark april emancipation day washington dc april world voice day april selena day texas april national day syria april flag day american samoa april women day gabon april world hemophilia day april independence day zimbabwe april invention day japan april international day monuments sites april bicycle day april dutch american friendship day april birthday of king mswati iii swaziland april patriots day massachusetts maine wisconsin april cannabis culture april john muir day california april san jacinto day texas april kartini day indonesia april national tree planting day kenya april first day of baha faith april day rastafari movement april earth day april discovery day brazil april saint george day celebrating patron saint several countries regions cities including england and catalonia april world book day april national sovereignty children day turkey april democracy day nepal april genocide day armenia april republic day gambia april australia new zealand celebrate anzac day anzac means australian new zealand army corps began april world dna day april world malaria day april flag day swaziland faroe islands april freedom day portugal april liberation day italy april army day north korea april union day tanzania april confederate memorial day texas florida april independence day sierra leone and togo april freedom day south africa april world tapir day april king day netherlands from birthday willem alexander netherlands april workers memorial day april national day sardinia april national heroes day barbados april showa day japan birthday emperor hirohito who died in april international dance day april former queen day holiday the netherlands changed to king day april birthday former queen juliana netherlands april flag day sweden birthday king carl xvi gustaf sweden april international jazz day april walpurgis night central and northern europe moveable events eggs celebrating easter which often falls in april but sometimes falls march image traditionally showing as raining april the northern hemisphere easter related events western christianity palm sunday between march april maundy thursday between march april good friday between march april easter sunday between march april easter monday between march april eastern orthodox easter falls between april may ascension day western christianity falls between april june jewish passover falls same week western christianity holy week which week leading up easter mother day uk falls between march april world snooker championship late april early may horse racing grand national uk kentucky derby united states start daylight saving time clocks going forward one hour most mexico morocco ramadan does not include daylight saving time end daylight saving time clocks going back one hour southeast australia new zealand chile marathon events following cities belgrade serbia boston massachusetts united states brighton united kingdom enschede netherlands london united kingdom madrid spain paris france rotterdam netherlands utrecht netherlands zurich switzerland selection historical events inauguration celebration nunavut on april statue easter island jacob became the first european land there on april newspaper report the sinking of the rms titanic on april fires after san francisco earthquake on april australian new zealand forces landing at anzac cove april painting showing mutiny on bounty april queen juliana netherlands who abdicated throne her st birthday april april royal air force founded april apple inc is founded april the islamic republic iran is founded april territory of nunavut created northern canada april netherlands introduces same sex marriage first country do so april florida sighted european for first time april haile selassie becomes emperor ethiopia april start falklands war as argentine forces land on falkland islands april pope john paul ii dies aged after and half years pope april first ever mobile phone call placed martin cooper new york city april robert walpole becomes the first prime minister great britain april william henry harrison dies president united states days shortest ever time office for us president april senegal becomes independent april assassination of martin luther king jr memphis tennessee april jacob becomes first european to land easter island landing there on easter sunday april scotland independence is confirmed with declaration of arbroath april the mormon church is founded april robert peary claims have been first at north pole on date april rwandan genocide begins april american civil war confederate forces under robert lee surrender union forces april world war ii denmark norway are invaded by nazi germany april april tragedy tbilisi georgia peaceful demonstration independence broken up by soviet army killing people the country gains independence this date exactly two years later april mount tambora indonesia erupts huge eruption affecting world climate for at least year april plane crash near smolensk russia kills several people who were important poland including president lech kaczynski april napoleon bonaparte exiled to island of elba april said have been most boring day th century april american civil war begins at fort sumter charleston south carolina april us president franklin roosevelt dies harry truman replaces him april yuri gagarin becomes first human fly into space april us president abraham lincoln shot dead ford theatre by john wilkes booth lincoln dies next day april qinghai province china hit by an earthquake killing tens thousands people april eruption in iceland shuts down air traffic around europe week due its ash cloud april ship rms titanic sinks near newfoundland after hitting an iceberg resulting the deaths many of people board april albert hofmann discovers lsd effects april syria gains full independence from france april san francisco earthquake san francisco california hit by big earthquake resulting fires destroy large parts city april zimbabwe gains full independence april first boston marathon held april sierra leone becomes republic april siege branch davidians waco texas ends fire kills people april timothy mcveigh carries out oklahoma city bombing killing people april joseph alois ratzinger becomes pope benedict xvi april marie curie pierre curie refine radium april deepwater horizon oil spill massive fire deepwater horizon drilling rig gulf mexico kills workers causes massive oil spill worst spill us history april bc legendary founding date rome april henry viii england becomes king april frederick cook claims have reached north pole on this date april pedro cabral becomes first european reach present day brazil april earth day observed for first time april church england declares that henry viii england and catherine aragon not married april the easter rising occurs dublin ireland april hubble space telescope is launched on space shuttle discovery april world war turkey battle of gallipoli begins australian french british new zealand forces land at anzac cove april portugal dictatorship overthrown coup what known as carnation revolution april spanish civil war german planes bomb the town of guernica basque country later depicted painting by pablo picasso april tanganyika zanzibar merge form tanzania april reactor explosion occurs chernobyl nuclear plant in present day ukraine radiation spreading around europe and the world april south africa holds its first free elections april togo becomes independent from france april sierra leone becomes independent from united kingdom april mutiny on ship bounty the pacific ocean lead fletcher christian april benito mussolini executed by italian partisans april peru thor heyerdahl starts his kon tiki expedition aimed at proving his theory that polynesian settlers the pacific ocean islands came south america april cyclone in bangladesh kills an estimated people april wedding of prince william duke cambridge catherine duchess cambridge broadcast worldwide april george washington becomes first president united states april united states purchases buys louisiana territory from france april adolf hitler commits suicide same day soviet army raises red flag on berlin reichstag april diary anne frank is published english april vietnam war ends north vietnamese forces take saigon april queen juliana netherlands abdicates throne and her daughter becomes queen beatrix netherlands beatrix later also abdicates on this day in favor her son king willem alexander netherlands trivia elizabeth ii one six current european monarchs to have been born april western christianity there is bigger likelihood of easter falling april than in march the months around april march may both start with an english language an second letter english language april is first three months row along may june that also female given name astrological signs for april are aries march to april and taurus april may sweet pea daisy are traditional birth flowers for april birthstone for april diamond april only day april start within the first quarter of calendar year if months year were arranged alphabetical order english language april would come first six current european monarchs were born in april they are king philippe belgium april queen margrethe ii denmark april henri grand duke luxembourg april elizabeth ii united kingdom commonwealth realms april king willem alexander netherlands april king carl xvi gustaf sweden april references\n"
     ]
    }
   ],
   "source": [
    "print(' '.join([vocab.get_token(x) for x in sub_tokens[0]])) "
   ]
  },
  {
   "cell_type": "code",
   "execution_count": 82,
   "metadata": {
    "scrolled": true
   },
   "outputs": [
    {
     "name": "stdout",
     "output_type": "stream",
     "text": [
      "september sep is ninth month of year gregorian calendar coming between august october it has days its name comes from the latin word sept seven it the seventh month year before january february were added beginning year september always begins same day of week as december but never ends on same day the week any other month month works progress administration poster from september the old roman calendar september was seventh month which where it got its name means seventh the ninth month at time november means ninth julius caesar calendar reform september became ninth month days september comes after august before october september begins same day week as december every year as each other first days are weeks days apart no other month any year common or leap year ends same day week september common years september starts on same day week april july the previous year leap years october previous year in common years september finishes same day week as april december the previous year and in leap years july previous year leap years and years immediately after september starts same day week as january of previous year years immediately before common years september starts same day week june of following year years immediately before leap years march and november following year in years immediately before common years september finishes same day week march june following year years immediately before leap years august november following year september one two months have an equinox other march its seasonal equivalent in both hemispheres where both day night are roughly of equal length occurring either on nd or rd half way between the june december solstices in northern hemisphere autumn fall begins in this month while southern hemisphere this beginning spring for meteorologists people who study weather these seasons begin on september in those hemispheres most northern hemisphere countries school starts this month following summer holidays ancient greece september was called anglo saxons called it meaning barley month referring harvest other countries referred to as autumn month such in finland and german speaking parts switzerland ethiopian new year occurs september jewish new year also often occurs this month events occurrences fixed events army parade marking brazil independence day september flower offerings catalonia national day september northern hemisphere leaves on trees start to change color around time september equinox autumn fall begins northern hemisphere september mostly on september september independence day uzbekistan september armed struggle independence eritrea september constitution day slovakia september independence day vietnam september national day san marino september independence day qatar september flag day australia september levy mwanawasa day zambia september merchant navy day united kingdom september teacher day india september independence day swaziland september unification day bulgaria september independence day brazil september national threatened species day australia september victory day mozambique september national day of andorra september independence day republic macedonia september nativity blessed virgin feast day christianity september admission day california september national day north korea september independence day tajikistan september national day of catalonia september patriot day united states september ethiopian new year september national day cape verde september world chocolate day september of holy cross roman catholicism september battle britain day united kingdom september national day costa rica el salvador guatemala honduras nicaragua september independence day mexico september independence day papua new guinea september malaysia day september constitution day united states september independence day chile september armed forces day chile september independence day saint kitts nevis september international talk like pirate day september independence day malta september independence day belize september world freedom day international peace day september world alzheimer day raising awareness alzheimer disease september independence day bulgaria september independence day mali september equinox autumn fall north spring in the south can occur september september national day saudi arabia september national day of guinea bissau september heritage day south africa september revolution day mozambique september european day languages september end independence war day mexico september holiday for french speaking community belgium september world heart day september world rabies day september ask stupid question day united states september inventors day argentina honouring laszlo september christian feast day michaelmas honouring st michael archangel september christian feast day of three archangels honouring st michael st gabriel st raphael september international coffee day september victory boquerón day paraguay september independence day botswana moveable and events beer glasses at munich oktoberfest held late september and early october summer olympics sometimes occur september though mostly in july or august summer paralympics are often held in september yom kippur jewish calendar occurs september or october labor day us canada first monday in september netherlands third tuesday in september munich oktoberfest runs late september and the beginning october start school most northern hemisphere countries german american heritage month hispanic heritage month united states run september october marathons september berlin germany kathmandu nepal mexico city mexico oslo norway sydney australia tallinn estonia vilnius lithuania selection historical events japanese foreign minister mamoru shigemitsu signing the surrender on uss missouri september painting brazilian declaration independence which occurred on september present day flag california which became us state september early morning image dust storm affecting sydney australia september blue lamp symbolising london metropolitan police force which founded on september september reign louis xiv france ends with his death after years on throne september martha the last passenger pigeon dies making her species extinct september nazi germany invades poland starting world war ii september muammar al gaddafi takes power libya coup september korean air flight kal shot down by soviet jet fighter near sakhalin island killing all on board september uzbekistan becomes independent soviet union september liliuokalani last hawaiian monarch is born september japan signs final surrender at end world war ii september vietnam becomes independent with ho chi minh as leader september san marino founded september united kingdom france declare war germany following its invasion poland september giuseppe farina becomes first formula one racing champion september road traffic sweden moved from the left to right september qatar becomes independent september several members israeli olympic team are kidnapped summer olympics munich they are killed next day september us president william mckinley shot leon czolgosz dying over week later september swaziland becomes independent september funeral diana princess wales takes place london september queen elizabeth of england is born september brazil declares independence portugal september world war ii battle britain begins september all members of the russian ice hockey team lokomotiv yaroslavl are killed plane crash september us general dwight eisenhower announces the allied armistice italy during world war ii september republic macedonia declares independence from yugoslavia september california becomes st state us september tajikistan becomes independent soviet union september elisabeth of bavaria empress austria stabbed death by italian anarchist luigi at lake geneva switzerland september guinea bissau officially becomes independent september scientists at cern switch large hadron collider on for first time september augusto pinochet takes power in military coup chile president salvador allende dies during the coup september voters scotland approve creation new scottish parliament september september attacks occur as islamist terrorists crash airplanes into world trade center new york city pentagon september anti apartheid activist steve biko dies police custody september battle the plains of abraham british forces defeat french forces near quebec city seven years war september great britain switches julian calendar gregorian calendar september grace kelly dies after car crash previous day september costa rica el salvador guatemala honduras nicaragua declare independence spain september mexico declares independence from spain september papua new guinea becomes independent from australia september united states constitution is signed in philadelphia pennsylvania september the occupy wall street movement begins in new york city september chile declares independence september musician jimi hendrix dies in london aged september saint kitts nevis becomes independent september southern central mexico are struck by strong earthquake mexico city among places affected september malta gains independence uk september belize gains independence from uk september hurricane hugo slams south carolina september armenia regains its independence from soviet union september bulgarian independence is recognised september mali becomes independent september bc roman emperor augustus caesar born september the kingdom saudi arabia formed september major dust storm affects southeastern australia including sydney september france takes control new caledonia september guinea bissau declares independence from portugal september new zealand newfoundland are given dominion status within the british empire september mexico gains independence spain september equation mc squared introduced september pope john paul dies just days after being elected september car passenger ferry estonia sinks during stormy weather baltic sea september london metropolitan police force founded september washington national cathedral is completed september an earthquake tsunamis off samoa american samoa tonga kill people september munich pact is signed september american film star james dean dies aged car crash september bechuanaland becomes independent uk changes its name botswana september strong earthquake off western sumatra kills over people symbols trivia sapphire is birth stone of september september is one of two months that never ends same day week any other months within any calendar year may is other birth stone september is sapphire symbolising clear thinking birth flowers for month are forget me not morning glory aster zodiac signs september are virgo august september libra september october if months of the year were arranged alphabetical order english language september would come last also in english language september has longest name all months year with nine letters coincidentally also ninth month september is only month of year in english language to have as many letters in its name its numeric calendar position september is first of four months in row have name ending ber october november and december are other three september is only day in september during common year to start within the middle third of calendar year it is the least common month birthdays among us presidents with one william howard taft september among prime ministers australia september most common month birthdays with seven\n"
     ]
    }
   ],
   "source": [
    "print(' '.join([vocab.get_token(x) for x in sub_tokens[337]])) "
   ]
  },
  {
   "cell_type": "code",
   "execution_count": 83,
   "metadata": {
    "scrolled": true
   },
   "outputs": [
    {
     "name": "stdout",
     "output_type": "stream",
     "text": [
      "january jan first month year julian gregorian calendars coming between december previous year february of current year has days january begins same day the week as october common years april july leap years january ends same day week february october in common years july in leap years month snow in january northern hemisphere where winter month january named for janus roman god doors and gates january february were put on calendar after all other months this is because the original roman calendar winter did not have months although march was originally first month january became new first month because was when people chose new consuls roman leaders month has days january winter month northern hemisphere and summer month the southern hemisphere each hemisphere it is seasonal equivalent of july the perihelion point its orbit where earth is closest sun also occurs this month between january january january begins on same day week as october common years on same day the week as april july leap years january ends same day week as february october common years and on the same day of week july leap years january is only month year that always has twin month that both begins ends on same day week it does common year this october and leap year july every year january both starts finishes same day week as may previous year each other first and last days exactly weeks days apart common years immediately before common years january starts same day week as april july following year leap years years immediately before september and december of following year in common years immediately before common years january finishes same day the week as july following year leap years years immediately before that april december following year january flower carnation with its birthstone being garnet meaning garnet constancy first day january is called new year day it is said that it became this date when roman consuls took office this day bc different calendars across europe made this the start of new year at different times some observed on march reaching over from december christmas season christianity also extends into this month eastern churches celebrate christmas on january or january epiphany january or january western christianity this occurs january christmas occurring on december january is celebrated the mary the mother god that feast day precept the blessed virgin mary events fixed events winter scene tallinn estonia on new year day three kings or magi who are commemorated january western christianity january in eastern christianity traditional burns night supper traditionally eaten scotland and scottish communities on january australia day celebration in sydney on january january mary mother of god january new year day january world day peace january founding day republic china january independence day brunei haiti sudan january triumph revolution cuba january constitution day italy january new year day bank holiday scotland january ancestry day haiti january berchtold day switzerland liechtenstein alsace january statehood day alaska january independence day burma january day fallen against colonial repression angola january day martyrs democratic republic congo january twelfth night western christianity night january january epiphany in western christianity january christmas in armenian apostolic church january christmas eastern orthodox christianity january tricolour day italy january victory from genocide day cambodia january commonwealth day northern mariana islands january celebration elvis presley birthday at graceland january kim jong un birthday north korea january martyrs day panama january kagami japan january republic day albania january day national unity nepal january memorial day turkmenistan january national youth day india january zanzibar revolution day tanzania january korean american day january old new year parts eastern europe january st knut day norway finland sweden january new year day eastern church january national flag day in georgia january national forest conservation day thailand january armed forces day nigeria january army day india january tree planting day egypt january teacher day thailand january flag day israel january roman catholic feast day st anthony january royal thai armed forces day january revolution day tunisia january world religion day january epiphany eastern orthodox christianity january armed forces day mali january martyrs day azerbaijan january inauguration day united states newly elected us president takes office year after leap year last next january flag day quebec january christian feast day st agnes january wellington anniversary new zealand january reunion day ukraine january national pie day united states january bounty day pitcairn island january feast day our lady peace roman catholicism january unification day romania january burns night scotland scottish communities celebrating birthday of scottish poet robert burns january welsh equivalent of valentine day january national voters day india january tatiana day russia january australia day january republic day india january duarte day dominican republic january liberation day uganda january holocaust memorial day january army day armenia january eu data privacy day january unofficial day commemorating charlemagne by some christians january martyrs day india january school day non violence peace spain january independence day nauru month long or moveable events martin luther king jr commemorated united states third monday january coming of age day japan second monday january martin luther king jr day united states third monday january commemorating civil rights activist martin luther king jr who was born january chinese new year between january february australian open one of major grand slam tennis tournaments starts between january january ends between january february auckland anniversary new zealand monday between january february weight loss awareness month united states national mentoring month united states marathon races held january bangalore india dubai united arab emirates mumbai india xiamen china selection of historical events euro currency came into use twelve eu member states january photo montage galilean moons discovered january landing force preparing to overthrow hawaii monarchy on january planet uranus photographed voyager january space shuttle challenger disaster occurred january january bc roman consuls are said have taken office on this day for first time january united kingdom created with inclusion ireland january haiti becomes second independent country americas after the us january australia given self government january sudan becomes independent january fidel castro takes over in cuba january samoa becomes independent january brunei becomes independent january euro currency comes into use in eu countries january spanish reconquista granada last moorish stronghold surrenders january meiji restoration in japan january alaska becomes th us state january burma becomes independent january world tallest building burj khalifa dubai opens january edward confessor king of england dies january harold godwinson is crowned king of england january galileo galilei discovers jupiter four galilean moons io callisto ganymede and europa january khmer rouge cambodia overthrown vietnamese troops january japanese emperor hirohito dies aged january charlie hebdo shooting paris january galileo galilei dies january african national congress is founded january elvis presley is born january first section london underground opens january the haiti earthquake causes many deaths and destruction across haiti january avezzano earthquake italy kills people january most voters saarland choose be part of germany january marilyn monroe marries joe dimaggio january margrethe ii of denmark becomes the first danish queen since january civil rights leader martin luther king jr born in atlanta georgia us january wikipedia goes online january us airways flight safely landed on hudson river new york city by chesley sullenberger after experiencing difficulties shortly after take off january ellen johnson sirleaf liberia becomes first female president africa january american and european sugar planters overthrow government queen liliuokalani hawaii january robert falcon scott expedition reaches south pole over month after that of roald amundsen january operation desert storm gulf war january great hanshin earthquake strikes japan mainly city kobe killing over people january james cook reaches hawaiian islands january king george united kingdom dies leaving throne edward viii united kingdom who lasts less than months post january barack obama becomes the first african american president united states january king louis xvi france executed guillotine january queen victoria dies aged ending britain victorian era january apollo lifts off carrying first lunar module january the bathyscaphe trieste jacques piccard don walsh dive deepest point pacific ocean challenger deep in mariana trench january roman emperor caligula is assassinated by praetorian guard january british statesman winston churchill dies january voyager flies by planet uranus january league nations is founded january egyptian protests begin january the first british fleet arrives what is now sydney harbour australia january india becomes republic january red army liberates auschwitz january us astronauts gus grissom edward white roger chaffee killed fire while testing apollo spacecraft january iceland becomes first country to legalize abortion january space shuttle challenger explodes shortly after take off from cape canaveral florida killing all seven astronauts board january venice la fenice opera house destroyed fire january king charles england is executed january adolf hitler comes to power germany january indian independence and non violence campaigner mahatma gandhi shot dead hindu extremist delhi january nauru becomes independent from australia january moscow first mcdonald restaurant opens trivia statue the roman god janus january named after roman god janus who was roman god doors gates january and july only pair day month that exactly six months apart english language they are also only pair months both begin end with same letters respectively the star signs for january are capricorn december january aquarius january february it coldest month northern hemisphere the warmest southern hemisphere it one three months in english language begin with along with june july but unlike latter two does not have as second letter references\n"
     ]
    }
   ],
   "source": [
    "print(' '.join([vocab.get_token(x) for x in sub_tokens[193]])) "
   ]
  },
  {
   "cell_type": "markdown",
   "metadata": {},
   "source": [
    "## Similar articles, Footbal"
   ]
  },
  {
   "cell_type": "code",
   "execution_count": 62,
   "metadata": {
    "scrolled": true
   },
   "outputs": [
    {
     "name": "stdout",
     "output_type": "stream",
     "text": [
      "nürnberg is football club nuremberg germany it was founded may manager are andreas sports michael finance coach michael title bundesliga winners the dfb pokal league position season league position bundesliga champions bundesliga th bundesliga th bundesliga champions bundesliga th bundesliga th bundesliga th bundesliga th bundesliga th bundesliga th bundesliga th bundesliga th bundesliga th bundesliga th bundesliga th bundesliga th bundesliga th former position famous players the club max morlock heinrich andreas köpke stefan reuter norbert eder dieter eckstein georg ferdinand heinz franz uli marek tomáš ivan robert vittek jan koller angelos charisteas david stefan kießling hiroshi coaches herbert jeno gunter baumann jeno max merkel robert körner kuno thomas barthel slobodan fritz zlatko hans horst werner kern robert gebhardt jeff robert gebhardt horst fritz popp fred hoffmann heinz udo klug rudi fritz popp heinz hermann gerland dieter arie haan willi dieter renner rainer günter hermann gerland willi felix willi reimann thomas brunner friedel thomas brunner klaus wolfgang wolf dieter hans meyer thomas von michael dieter michael players season goalkeepers raphael schäfer since patrick since samuel since defences even hovland since dave since since javier horacio since ondřej since cristian ramírez since ondřej since tobias since manuel since midfielders jürgen since danny blum since jan polák since timo since robert koch since niklas stark since willi since mike ott since daniel since markus mendler since alessandro since strikers jakub since niclas since since maximilian since other websites official site\n"
     ]
    }
   ],
   "source": [
    "print(' '.join([vocab.get_token(x) for x in sub_tokens[9999]])) "
   ]
  },
  {
   "cell_type": "code",
   "execution_count": 68,
   "metadata": {
    "scrolled": true
   },
   "outputs": [
    {
     "name": "stdout",
     "output_type": "stream",
     "text": [
      "in blue qualified play at euro these are twenty four national teams who played euro in france every national association must present before uefa list footballers which three of them must be goalkeepers ten days before first match that means th may footballer can be replaced another one if he is injured or sick although must be certified by uefa medical committee medical staff his football club these dispositions applied according art euro regulations teams group albany nationalteam goalkeeper defender midfield forward coach albany hoxha andi armando gianni de france nationalteam goalkeeper defender midfield forward coach france hugo christophe umtiti golo sissoko antoine pierre didier deschamps romania nationalteam goalkeeper defender midfield forward coach romania lung jr alexandru ovidiu popa denis stancu anghel switzerland nationalteam goalkeeper defender midfield forward coach switzerland yann stephan von schär fabian shaqiri breel vladimir petković group england nationalteam goalkeeper defender midfield forward coach england fraser heaton ryan walker dele wilshere harry vardy roy hodgson russia nationalteam goalkeeper defender midfield forward coach russia igor roman dmitri aleksandr dzyuba leonid slovakia nationalteam goalkeeper defender midfield forward coach slovakia ján peter ján stanislav ján wales nationalteam goalkeeper defender midfield forward coach wales danny williams ashley chester jonny michael allen george robson bale chris coleman group germany nationalteam goalkeeper defender midfield forward coach germany manuel andré ter stegen shkodran kimmich sami sané lukas gómez joachim löw ireland northern nationalteam goalkeeper defender midfield forward coach northern ireland michael connor hodson shane ward will michael neill poland nationalteam goalkeeper defender midfield forward coach poland artur artur bartosz arkadiusz lewandowski adam ukraine nationalteam goalkeeper defender midfield forward coach ukraine denys shevchenko bohdan anatoliy roman fomenko group croatia nationalteam goalkeeper defender midfield forward coach croatia ivan subašić šime vida ivan andrej ante czech republic nationalteam goalkeeper defender midfield forward coach czech republic petr pavel gebre darida tomáš pavel spain nationalteam goalkeeper defender midfield forward coach spain iker de rico césar san alba sergio silva álvaro rodríguez vicente del bosque turkey nationalteam goalkeeper defender midfield forward coach turkey volkan tekin semih yılmaz smail nuri cenk mor fatih group belgium nationalteam goalkeeper defender midfield forward coach belgium thibaut françois gillet toby dembélé kevin de ferreira batshuayi marc wilmots ireland nationalteam goalkeeper defender midfield forward coach ireland randolph séamus ward glenn quinn shane murphy martin neill italy nationalteam goalkeeper defender midfield forward coach italy gianluigi marchetti mattia de bonucci antonio de el giaccherini simone insigne antonio conte sweden nationalteam goalkeeper defender midfield forward coach sweden andreas mikael augustinsson emil zlatan erik group austria nationalteam goalkeeper defender midfield forward coach austria robert aleksandar klein györgy jantscher marko janko marcel koller hungary nationalteam goalkeeper defender midfield forward coach hungary gábor ádám balázs bernd nationalteam goalkeeper defender midfield forward coach iceland hannes þór ari freyr már björgvin ingi arnór ingvi berg már elmar bjarnason alfreð daði sigþórsson lars portugal nationalteam goalkeeper defender midfield forward coach portugal rui carvalho bruno soares joão silva cristiano quaresma fernando santos references other websites\n"
     ]
    }
   ],
   "source": [
    "print(' '.join([vocab.get_token(x) for x in sub_tokens[81252]])) "
   ]
  },
  {
   "cell_type": "code",
   "execution_count": 65,
   "metadata": {
    "scrolled": true
   },
   "outputs": [
    {
     "name": "stdout",
     "output_type": "stream",
     "text": [
      "admira football club which plays austria admira wacker mödling formed from merger two football clubs admira wacker wien vfb mödling in admira wacker wien formed from merger two football clubs admira wien wacker wien name vfb admira wacker mödling present fc admira team left first row michael horvath markus patrick hans peter berger thomas benjamin günter christoph second row alexander friedl hans werner weiss georg georg goalkeeper coach ivan bernhard morgenthaler christopher captain team markus daniel drescher manuel paul gernot rene armin schiller manager richard chairman third row dietmar kühbauer rene max sax daniel toth richard ken noel bernhard schachner stephan palla patrik manfred assistance coach goalkeeper patrick hans peter berger thomas defence richard stephan palla gernot daniel drescher markus bernhard morgenthaler markus christopher michael horvath midfield paul patrik manu daniel wolf rene christoph ivan stefan schwab bernhard schachner daniel toth forward marcus benjamin marcel maximilian sax the team won championship league promoted the austrian bundesliga\n"
     ]
    }
   ],
   "source": [
    "print(' '.join([vocab.get_token(x) for x in sub_tokens[34080]])) "
   ]
  },
  {
   "cell_type": "markdown",
   "metadata": {},
   "source": [
    "## Similar articles weapons:"
   ]
  },
  {
   "cell_type": "code",
   "execution_count": 53,
   "metadata": {},
   "outputs": [
    {
     "name": "stdout",
     "output_type": "stream",
     "text": [
      "nuclear missiles are missiles rockets that land earth or hit something air water or whatever with atomic bombs inside time cold war usa soviet union were enemies thought other side was going attack them to dissuade other side attacking both sides built many nuclear missiles to ensure mutual assured destruction this meant country that attacked would be destroyed treaties were made reduce the numbers missiles to make everyone safer\n"
     ]
    }
   ],
   "source": [
    "print(' '.join([vocab.get_token(x) for x in sub_tokens[5192]])) "
   ]
  },
  {
   "cell_type": "code",
   "execution_count": 74,
   "metadata": {
    "scrolled": true
   },
   "outputs": [
    {
     "name": "stdout",
     "output_type": "stream",
     "text": [
      "bushmaster acr the adaptive combat rifle acr is fully automatic assault rifle it designed magpul industries erie colorado late january bushmaster made licensing agreement magpul this agreement bushmaster would take over making development sales the acr the rifle developed over five months was supposed replace rifle completely it also supposed to do without money government prototypes were shown the shot show orlando florida it was supposed be released some time however bushmaster said may that acr would not be released to public until this because bushmaster were focusing more military projects november bushmaster released statement saying acr being redesigned be superior offering compete for next generation us army infantry carbine subcompact weapon requirement will be available to select customers acr one weapons shown army during an industry day on november this industry day happened so that modern carbines could be looked at before it decided what weapon that would replace carbine had be like design first design many recent rifle designs combined its designers say that takes the best parts each and puts them into light modular rifle some features the ar the fn scar heckler koch xm ar can be seen clearly experts from magpul have said many times that depending how long barrel number bullets fired is around rounds every minute this an estimate weapon caliber can easily be changed changing bolt head magazine and barrel history united states designing carbine to replace carbine bushmaster firearms with help from remington arms sister company has made many design changes these were made meet what military needed acr can be bought both military civilians bushmaster says that they will soon have kits which can change caliber of rifle it expected that acr will be able to be bought with choice of commercial barrels one kind acr made remington has been shown as part army individual carbine competition magazine for mm version the acr rifle called magpul it can hold rounds magpul says it is much more difficult break or damage than other magazines can also fit rifles rifle family the acr made not to break if it exposed things like sand dirt mud water sale recall on october bushmaster asked customers for all back they asked all acr owners to immediately stop using gun because was dangerous they also said contact customer support bushmaster said they recalled rifles because they discovered fault design could mean many rounds could be fired when trigger pulled bushmaster said would pay for repairs rifles users references other websites official acr page bushmaster firearms magpul industries\n"
     ]
    }
   ],
   "source": [
    "print(' '.join([vocab.get_token(x) for x in sub_tokens[46029]]))"
   ]
  },
  {
   "cell_type": "code",
   "execution_count": 77,
   "metadata": {
    "scrolled": true
   },
   "outputs": [
    {
     "name": "stdout",
     "output_type": "stream",
     "text": [
      "world war ii submarine uss sea owl submarine or sub vessel that goes underwater most large submarines war vessels some small ones used scientific or business purposes these are often called cannot go far or stay long away base some people buy their own explore under the sea submarine actually boat not ship history early submarines were often powered by hand this because boat engines had not been invented yet they were almost always made war submarines would try sink enemy ships crude methods these included drilling screws into their wooden hulls some tried blow up ship this often destroyed submarine too at end the th century whitehead torpedo electrical systems allowed much better submarines these better submarines were much used during first second world wars many these better submarines were created germany called boats submarines were powered by diesel electric system diesel motor would be used turn generator generator would charge large battery while submarine surface power battery then used submarine when went underwater these submarines were dangerous enemies they were hard see while underwater but it easy to attack them when they surfaced recharge many modern boats still use this diesel electric propulsion system first battle atlantic was first major battle mainly fought between submarines and their enemies as later wars main jobs submarines were enforce blockade sink enemy warships they usually attacked freighters night shooting their deck guns then hiding under water sometimes used their torpedoes which could fire while underwater especially against larger ships warships during world war ii us navy lost around submarines due combat non combat causes after world war ii better sonar helped enemies submarines find destroy them new subs were more streamlined had no deck guns because water dragging against guns made noise underwater slowed subs modern submarines most large modern military submarines are powered by nuclear reactors these submarines often have system which can get air seawater these two things allow them stay under water for long periods time their most important uses are attacking ships or launching missiles these include cruise missiles and nuclear missiles there are two main kinds subs attack submarines are small and fast they attack other subs surface ships torpedos missile subs are larger and slower they built shoot missiles at far away targets land\n"
     ]
    }
   ],
   "source": [
    "print(' '.join([vocab.get_token(x) for x in sub_tokens[2141]]))"
   ]
  },
  {
   "cell_type": "markdown",
   "metadata": {},
   "source": [
    "## Similar articles, Cities/towns of Germany"
   ]
  },
  {
   "cell_type": "code",
   "execution_count": 84,
   "metadata": {},
   "outputs": [
    {
     "data": {
      "text/plain": [
       "array([ 7889, 91626, 67366, 33432,  9092, 67530, 52788, 91283, 21207,\n",
       "       20206,  4143, 94223, 83212,  3540, 18059, 19851, 91274, 21036,\n",
       "       82880, 95643, 25365, 54547, 13134, 19940, 70292, 65995, 17897,\n",
       "        7282, 17898, 86015, 25640, 18927, 97092, 80547, 17893, 84478,\n",
       "       94987, 98830, 87368, 17895, 17201, 80206, 74150, 24563, 97230,\n",
       "       19205, 80735, 76798, 95529, 17969], dtype=int64)"
      ]
     },
     "execution_count": 84,
     "metadata": {},
     "output_type": "execute_result"
    }
   ],
   "source": [
    "doc = document_embeddings[7889]\n",
    "doc = doc/np.sqrt(np.sum(np.dot(doc,doc)))\n",
    "normalized = np.divide(document_embeddings,np.sqrt(np.sum(np.multiply(document_embeddings,document_embeddings),axis = 1)).reshape(-1,1))\n",
    "dist = np.matmul(normalized,doc)\n",
    "np.argsort(-dist)[:50]"
   ]
  },
  {
   "cell_type": "code",
   "execution_count": 85,
   "metadata": {},
   "outputs": [
    {
     "name": "stdout",
     "output_type": "stream",
     "text": [
      "frankfurt oder or frankfurt an der oder is town in germany lies on oder river which marks current border between germany poland so called oder neisse line it east state brandenburg since january town added prefix refer heinrich von kleist who was born there today about people are living frankfurt an der oder well known people manuela schwesig born politician references\n"
     ]
    }
   ],
   "source": [
    "print(' '.join([vocab.get_token(x) for x in sub_tokens[7889]]))"
   ]
  },
  {
   "cell_type": "code",
   "execution_count": 88,
   "metadata": {},
   "outputs": [
    {
     "name": "stdout",
     "output_type": "stream",
     "text": [
      "rüti can refer rüti glarus rüti zürich rüti bei büren berne rüti bei lyssach berne rüti bei riggisberg berne names the following places have the same origin municipality appenzell innerrhoden municipality st gallen municipality solothurn\n"
     ]
    }
   ],
   "source": [
    "print(' '.join([vocab.get_token(x) for x in sub_tokens[91626]]))"
   ]
  },
  {
   "cell_type": "code",
   "execution_count": 89,
   "metadata": {},
   "outputs": [
    {
     "name": "stdout",
     "output_type": "stream",
     "text": [
      "dillingen district rural district swabia southwest bavaria germany neighbor districts are donau ries augsburg district günzburg district and baden württemberg heidenheim district dillingen capital dillingen district towns municipalities district landkreis dillingen numbers in map see also opposite list towns municipalities dillingen der donau an der donau an der donau bissingen schwenningen\n"
     ]
    }
   ],
   "source": [
    "print(' '.join([vocab.get_token(x) for x in sub_tokens[33432]]))"
   ]
  },
  {
   "cell_type": "code",
   "execution_count": 90,
   "metadata": {},
   "outputs": [
    {
     "name": "stdout",
     "output_type": "stream",
     "text": [
      "weißenfels capital city old weißenfels rural district in saxony anhalt germany until district changes king saxony lived here at one time it is about km southwest leipzig population growth in number people over years data source from statistic national office saxony anhalt october august october references other websites\n"
     ]
    }
   ],
   "source": [
    "print(' '.join([vocab.get_token(x) for x in sub_tokens[9092]]))"
   ]
  },
  {
   "cell_type": "code",
   "execution_count": 91,
   "metadata": {},
   "outputs": [
    {
     "name": "stdout",
     "output_type": "stream",
     "text": [
      "state as shown map the deutsches reich the arms grand duchy grand duchy of oldenburg state europe it in area today is germany it created out smaller duchy of oldenburg the state created at congress vienna but ceased exist after german revolution in capital state oldenburg grand ducal family lived schloss oldenburg in capital\n"
     ]
    }
   ],
   "source": [
    "print(' '.join([vocab.get_token(x) for x in sub_tokens[67530]]))"
   ]
  },
  {
   "cell_type": "markdown",
   "metadata": {},
   "source": [
    "**Word embeddings:**"
   ]
  },
  {
   "cell_type": "code",
   "execution_count": 21,
   "metadata": {},
   "outputs": [],
   "source": [
    "word_embeddings = np.zeros((vocab.size(),100))\n",
    "for i in range(vocab.size()):\n",
    "    word_embeddings[i] = model.encoder.token_embeddings(torch.Tensor(np.asarray([i])).long().to(\"cuda\")).data.to(\"cpu\").numpy()"
   ]
  },
  {
   "cell_type": "code",
   "execution_count": 69,
   "metadata": {},
   "outputs": [],
   "source": [
    "word =  word_embeddings[1]\n",
    "dist = word_embeddings - word.reshape(1,-1)\n",
    "dist = np.multiply(dist,dist)\n",
    "dist = np.sqrt(np.sum(dist,axis = 1))"
   ]
  },
  {
   "cell_type": "code",
   "execution_count": null,
   "metadata": {
    "scrolled": true
   },
   "outputs": [],
   "source": [
    "for x in np.argsort(dist)[:50]:\n",
    "    print(vocab.get_token(x))"
   ]
  },
  {
   "cell_type": "code",
   "execution_count": 70,
   "metadata": {
    "scrolled": true
   },
   "outputs": [],
   "source": [
    "word = word_embeddings[1]\n",
    "word = word/np.sqrt(np.sum(np.dot(word,word)))\n",
    "normalized = np.divide(word_embeddings,np.sqrt(np.sum(np.multiply(word_embeddings,word_embeddings),axis = 1)).reshape(-1,1))\n",
    "dist = np.matmul(normalized,word)"
   ]
  },
  {
   "cell_type": "code",
   "execution_count": 71,
   "metadata": {
    "scrolled": true
   },
   "outputs": [
    {
     "name": "stdout",
     "output_type": "stream",
     "text": [
      "april\n",
      "september\n",
      "march\n",
      "october\n",
      "february\n",
      "august\n",
      "flowers\n",
      "week\n",
      "november\n",
      "june\n",
      "additionally\n",
      "born\n",
      "former\n",
      "was\n",
      "half\n",
      "scientist\n",
      "age\n",
      "member\n",
      "pancreatic\n",
      "career\n",
      "references\n",
      "websites\n",
      "director\n",
      "received\n",
      "central\n",
      "she\n",
      "kon\n",
      "retired\n",
      "land\n",
      "worked\n",
      "until\n",
      "professionally\n",
      "as\n",
      "biography\n",
      "complications\n",
      "won\n",
      "body\n",
      "acted\n",
      "award\n",
      "actor\n",
      "known\n",
      "january\n",
      "outlived\n",
      "it\n",
      "to\n",
      "profile\n",
      "nominated\n",
      "started\n",
      "best\n",
      "film\n"
     ]
    }
   ],
   "source": [
    "for x in np.argsort(-dist)[:50]:\n",
    "    print(vocab.get_token(x))"
   ]
  },
  {
   "cell_type": "markdown",
   "metadata": {},
   "source": [
    "**Expected Meaning: Test Zone**"
   ]
  },
  {
   "cell_type": "code",
   "execution_count": 48,
   "metadata": {},
   "outputs": [
    {
     "data": {
      "text/plain": [
       "matrix([[228,   0,   0, ...,   0,   0,   0]], dtype=int16)"
      ]
     },
     "execution_count": 48,
     "metadata": {},
     "output_type": "execute_result"
    }
   ],
   "source": [
    "wiki_data.token_doc_matrix[1].todense()"
   ]
  },
  {
   "cell_type": "code",
   "execution_count": 61,
   "metadata": {},
   "outputs": [
    {
     "name": "stderr",
     "output_type": "stream",
     "text": [
      "D:\\Anaconda3\\envs\\dlenv\\lib\\site-packages\\ipykernel_launcher.py:1: RuntimeWarning: divide by zero encountered in true_divide\n",
      "  \"\"\"Entry point for launching an IPython kernel.\n"
     ]
    },
    {
     "data": {
      "text/plain": [
       "<109876x109876 sparse matrix of type '<class 'numpy.float64'>'\n",
       "\twith 109876 stored elements (1 diagonals) in DIAgonal format>"
      ]
     },
     "execution_count": 61,
     "metadata": {},
     "output_type": "execute_result"
    }
   ],
   "source": [
    "sparse.diags(1/token_doc_matrix.sum(axis=1).A.ravel())"
   ]
  },
  {
   "cell_type": "code",
   "execution_count": 24,
   "metadata": {},
   "outputs": [
    {
     "name": "stderr",
     "output_type": "stream",
     "text": [
      "D:\\Anaconda3\\envs\\dlenv\\lib\\site-packages\\ipykernel_launcher.py:1: RuntimeWarning: divide by zero encountered in true_divide\n",
      "  \"\"\"Entry point for launching an IPython kernel.\n"
     ]
    }
   ],
   "source": [
    "token_doc_matrix = sparse.diags(1/token_doc_matrix.sum(axis=1).A.ravel()).dot(token_doc_matrix)"
   ]
  },
  {
   "cell_type": "code",
   "execution_count": 55,
   "metadata": {},
   "outputs": [
    {
     "data": {
      "text/plain": [
       "0.000552791597567717"
      ]
     },
     "execution_count": 55,
     "metadata": {},
     "output_type": "execute_result"
    }
   ],
   "source": [
    "token_doc_matrix[3,0]"
   ]
  },
  {
   "cell_type": "code",
   "execution_count": 58,
   "metadata": {},
   "outputs": [
    {
     "data": {
      "text/plain": [
       "0.010929485643066008"
      ]
     },
     "execution_count": 58,
     "metadata": {},
     "output_type": "execute_result"
    }
   ],
   "source": [
    "token_doc_matrix[(1,0)]"
   ]
  },
  {
   "cell_type": "code",
   "execution_count": 15,
   "metadata": {},
   "outputs": [],
   "source": [
    "token_doc_matrix = dok_matrix(token_doc_matrix)"
   ]
  },
  {
   "cell_type": "code",
   "execution_count": 16,
   "metadata": {
    "scrolled": true
   },
   "outputs": [
    {
     "name": "stderr",
     "output_type": "stream",
     "text": [
      "100%|███████████████████████████████████████████████████████████████████| 11710802/11710802 [5:08:13<00:00, 633.24it/s]\n"
     ]
    }
   ],
   "source": [
    "word_meaning = np.zeros((token_doc_matrix.shape[0],100))\n",
    "for key in tqdm(token_doc_matrix.keys()):\n",
    "    word_meaning[key[0]] += token_doc_matrix[key]*model.eval().encoder.forward(torch.Tensor(np.asarray([int(key[0])])).long().to(\"cuda\"),torch.Tensor(np.asarray([int(key[1])])).long().to(\"cuda\"))[0].data.to(\"cpu\").numpy()[0]"
   ]
  },
  {
   "cell_type": "code",
   "execution_count": 147,
   "metadata": {
    "scrolled": true
   },
   "outputs": [
    {
     "data": {
      "text/plain": [
       "10661"
      ]
     },
     "execution_count": 147,
     "metadata": {},
     "output_type": "execute_result"
    }
   ],
   "source": [
    "vocab.get_id(\"anarchism\")"
   ]
  },
  {
   "cell_type": "code",
   "execution_count": 154,
   "metadata": {},
   "outputs": [
    {
     "data": {
      "text/plain": [
       "['april',\n",
       " 'fourth',\n",
       " 'month',\n",
       " 'year',\n",
       " 'and',\n",
       " 'comes',\n",
       " 'between',\n",
       " 'march',\n",
       " 'and',\n",
       " 'may',\n",
       " 'it',\n",
       " 'one',\n",
       " 'four',\n",
       " 'months',\n",
       " 'have',\n",
       " 'days',\n",
       " 'april',\n",
       " 'always',\n",
       " 'begins',\n",
       " 'same',\n",
       " 'day',\n",
       " 'week',\n",
       " 'as',\n",
       " 'july',\n",
       " 'additionally',\n",
       " 'january',\n",
       " 'in',\n",
       " 'leap',\n",
       " 'years',\n",
       " 'april',\n",
       " 'always',\n",
       " 'ends',\n",
       " 'same',\n",
       " 'day',\n",
       " 'of',\n",
       " 'week',\n",
       " 'as',\n",
       " 'december',\n",
       " 'april',\n",
       " 'flowers',\n",
       " 'are',\n",
       " 'sweet',\n",
       " 'pea',\n",
       " 'daisy',\n",
       " 'its',\n",
       " 'birthstone',\n",
       " 'diamond',\n",
       " 'meaning',\n",
       " 'diamond',\n",
       " 'innocence',\n",
       " 'month',\n",
       " 'spring',\n",
       " 'flowers',\n",
       " 'april',\n",
       " 'northern',\n",
       " 'hemisphere',\n",
       " 'april',\n",
       " 'comes',\n",
       " 'between',\n",
       " 'march',\n",
       " 'and',\n",
       " 'may',\n",
       " 'making',\n",
       " 'it',\n",
       " 'fourth',\n",
       " 'month',\n",
       " 'year',\n",
       " 'also',\n",
       " 'comes',\n",
       " 'first',\n",
       " 'the',\n",
       " 'year',\n",
       " 'out',\n",
       " 'four',\n",
       " 'months',\n",
       " 'that',\n",
       " 'have',\n",
       " 'days',\n",
       " 'june',\n",
       " 'september',\n",
       " 'november',\n",
       " 'are',\n",
       " 'later',\n",
       " 'year',\n",
       " 'april',\n",
       " 'begins',\n",
       " 'on',\n",
       " 'same',\n",
       " 'day',\n",
       " 'week',\n",
       " 'july',\n",
       " 'every',\n",
       " 'year',\n",
       " 'same',\n",
       " 'day',\n",
       " 'week',\n",
       " 'january',\n",
       " 'leap',\n",
       " 'years',\n",
       " 'april',\n",
       " 'ends',\n",
       " 'same',\n",
       " 'day',\n",
       " 'week',\n",
       " 'as',\n",
       " 'december',\n",
       " 'every',\n",
       " 'year',\n",
       " 'as',\n",
       " 'each',\n",
       " 'other',\n",
       " 'last',\n",
       " 'days',\n",
       " 'are',\n",
       " 'exactly',\n",
       " 'weeks',\n",
       " 'days',\n",
       " 'apart',\n",
       " 'common',\n",
       " 'years',\n",
       " 'april',\n",
       " 'starts',\n",
       " 'on',\n",
       " 'same',\n",
       " 'day',\n",
       " 'week',\n",
       " 'october',\n",
       " 'previous',\n",
       " 'year',\n",
       " 'leap',\n",
       " 'years',\n",
       " 'may',\n",
       " 'of',\n",
       " 'previous',\n",
       " 'year',\n",
       " 'common',\n",
       " 'years',\n",
       " 'april',\n",
       " 'finishes',\n",
       " 'same',\n",
       " 'day',\n",
       " 'of',\n",
       " 'week',\n",
       " 'as',\n",
       " 'july',\n",
       " 'previous',\n",
       " 'year',\n",
       " 'in',\n",
       " 'leap',\n",
       " 'years',\n",
       " 'february',\n",
       " 'october',\n",
       " 'of',\n",
       " 'previous',\n",
       " 'year',\n",
       " 'common',\n",
       " 'years',\n",
       " 'immediately',\n",
       " 'after',\n",
       " 'other',\n",
       " 'common',\n",
       " 'years',\n",
       " 'april',\n",
       " 'starts',\n",
       " 'same',\n",
       " 'day',\n",
       " 'of',\n",
       " 'week',\n",
       " 'as',\n",
       " 'january',\n",
       " 'previous',\n",
       " 'year',\n",
       " 'leap',\n",
       " 'years',\n",
       " 'years',\n",
       " 'immediately',\n",
       " 'after',\n",
       " 'that',\n",
       " 'april',\n",
       " 'finishes',\n",
       " 'on',\n",
       " 'same',\n",
       " 'day',\n",
       " 'of',\n",
       " 'week',\n",
       " 'january',\n",
       " 'previous',\n",
       " 'year',\n",
       " 'years',\n",
       " 'immediately',\n",
       " 'before',\n",
       " 'common',\n",
       " 'years',\n",
       " 'april',\n",
       " 'starts',\n",
       " 'on',\n",
       " 'same',\n",
       " 'day',\n",
       " 'of',\n",
       " 'week',\n",
       " 'september',\n",
       " 'december',\n",
       " 'following',\n",
       " 'year',\n",
       " 'and',\n",
       " 'years',\n",
       " 'immediately',\n",
       " 'before',\n",
       " 'leap',\n",
       " 'years',\n",
       " 'june',\n",
       " 'following',\n",
       " 'year',\n",
       " 'years',\n",
       " 'immediately',\n",
       " 'before',\n",
       " 'common',\n",
       " 'years',\n",
       " 'april',\n",
       " 'finishes',\n",
       " 'same',\n",
       " 'day',\n",
       " 'week',\n",
       " 'september',\n",
       " 'the',\n",
       " 'following',\n",
       " 'year',\n",
       " 'years',\n",
       " 'immediately',\n",
       " 'before',\n",
       " 'leap',\n",
       " 'years',\n",
       " 'march',\n",
       " 'june',\n",
       " 'following',\n",
       " 'year',\n",
       " 'april',\n",
       " 'is',\n",
       " 'spring',\n",
       " 'month',\n",
       " 'northern',\n",
       " 'hemisphere',\n",
       " 'an',\n",
       " 'autumn',\n",
       " 'fall',\n",
       " 'month',\n",
       " 'southern',\n",
       " 'hemisphere',\n",
       " 'in',\n",
       " 'each',\n",
       " 'hemisphere',\n",
       " 'seasonal',\n",
       " 'equivalent',\n",
       " 'october',\n",
       " 'other',\n",
       " 'unclear',\n",
       " 'as',\n",
       " 'to',\n",
       " 'where',\n",
       " 'april',\n",
       " 'got',\n",
       " 'its',\n",
       " 'name',\n",
       " 'common',\n",
       " 'theory',\n",
       " 'is',\n",
       " 'that',\n",
       " 'comes',\n",
       " 'from',\n",
       " 'latin',\n",
       " 'word',\n",
       " 'meaning',\n",
       " 'open',\n",
       " 'referring',\n",
       " 'to',\n",
       " 'flowers',\n",
       " 'opening',\n",
       " 'in',\n",
       " 'spring',\n",
       " 'another',\n",
       " 'theory',\n",
       " 'that',\n",
       " 'name',\n",
       " 'could',\n",
       " 'come',\n",
       " 'aphrodite',\n",
       " 'the',\n",
       " 'greek',\n",
       " 'goddess',\n",
       " 'love',\n",
       " 'originally',\n",
       " 'the',\n",
       " 'second',\n",
       " 'month',\n",
       " 'old',\n",
       " 'roman',\n",
       " 'calendar',\n",
       " 'before',\n",
       " 'start',\n",
       " 'new',\n",
       " 'year',\n",
       " 'put',\n",
       " 'january',\n",
       " 'quite',\n",
       " 'few',\n",
       " 'festivals',\n",
       " 'held',\n",
       " 'this',\n",
       " 'month',\n",
       " 'many',\n",
       " 'southeast',\n",
       " 'asian',\n",
       " 'cultures',\n",
       " 'new',\n",
       " 'year',\n",
       " 'celebrated',\n",
       " 'in',\n",
       " 'this',\n",
       " 'month',\n",
       " 'including',\n",
       " 'songkran',\n",
       " 'western',\n",
       " 'christianity',\n",
       " 'easter',\n",
       " 'can',\n",
       " 'be',\n",
       " 'celebrated',\n",
       " 'on',\n",
       " 'sunday',\n",
       " 'between',\n",
       " 'march',\n",
       " 'april',\n",
       " 'orthodox',\n",
       " 'christianity',\n",
       " 'can',\n",
       " 'fall',\n",
       " 'between',\n",
       " 'april',\n",
       " 'may',\n",
       " 'at',\n",
       " 'end',\n",
       " 'month',\n",
       " 'central',\n",
       " 'northern',\n",
       " 'european',\n",
       " 'cultures',\n",
       " 'celebrate',\n",
       " 'walpurgis',\n",
       " 'night',\n",
       " 'april',\n",
       " 'marking',\n",
       " 'transition',\n",
       " 'from',\n",
       " 'winter',\n",
       " 'into',\n",
       " 'summer',\n",
       " 'april',\n",
       " 'poetry',\n",
       " 'poets',\n",
       " 'use',\n",
       " 'april',\n",
       " 'mean',\n",
       " 'end',\n",
       " 'winter',\n",
       " 'for',\n",
       " 'example',\n",
       " 'april',\n",
       " 'showers',\n",
       " 'bring',\n",
       " 'may',\n",
       " 'flowers',\n",
       " 'events',\n",
       " 'april',\n",
       " 'fixed',\n",
       " 'events',\n",
       " 'an',\n",
       " 'april',\n",
       " 'fools',\n",
       " 'day',\n",
       " 'hoax',\n",
       " 'for',\n",
       " 'april',\n",
       " 'copenhagen',\n",
       " 'songkran',\n",
       " 'celebration',\n",
       " 'thailand',\n",
       " 'around',\n",
       " 'april',\n",
       " 'proposed',\n",
       " 'flag',\n",
       " 'earth',\n",
       " 'day',\n",
       " 'on',\n",
       " 'april',\n",
       " 'saint',\n",
       " 'george',\n",
       " 'day',\n",
       " 'april',\n",
       " 'in',\n",
       " 'london',\n",
       " 'trafalgar',\n",
       " 'square',\n",
       " 'anzac',\n",
       " 'day',\n",
       " 'commemoration',\n",
       " 'australia',\n",
       " 'on',\n",
       " 'april',\n",
       " 'queen',\n",
       " 'day',\n",
       " 'april',\n",
       " 'celebration',\n",
       " 'netherlands',\n",
       " 'it',\n",
       " 'changed',\n",
       " 'king',\n",
       " 'day',\n",
       " 'april',\n",
       " 'walpurgis',\n",
       " 'night',\n",
       " 'bonfire',\n",
       " 'on',\n",
       " 'april',\n",
       " 'sweden',\n",
       " 'april',\n",
       " 'april',\n",
       " 'fools',\n",
       " 'day',\n",
       " 'april',\n",
       " 'islamic',\n",
       " 'republic',\n",
       " 'day',\n",
       " 'iran',\n",
       " 'april',\n",
       " 'international',\n",
       " 'children',\n",
       " 'book',\n",
       " 'day',\n",
       " 'april',\n",
       " 'thai',\n",
       " 'heritage',\n",
       " 'conservation',\n",
       " 'day',\n",
       " 'april',\n",
       " 'world',\n",
       " 'autism',\n",
       " 'awareness',\n",
       " 'day',\n",
       " 'april',\n",
       " 'malvinas',\n",
       " 'day',\n",
       " 'argentina',\n",
       " 'april',\n",
       " 'independence',\n",
       " 'day',\n",
       " 'senegal',\n",
       " 'april',\n",
       " 'international',\n",
       " 'day',\n",
       " 'for',\n",
       " 'landmine',\n",
       " 'awareness',\n",
       " 'assistance',\n",
       " 'april',\n",
       " 'peace',\n",
       " 'day',\n",
       " 'angola',\n",
       " 'april',\n",
       " 'end',\n",
       " 'tax',\n",
       " 'year',\n",
       " 'united',\n",
       " 'kingdom',\n",
       " 'april',\n",
       " 'tartan',\n",
       " 'day',\n",
       " 'canada',\n",
       " 'united',\n",
       " 'states',\n",
       " 'april',\n",
       " 'chakri',\n",
       " 'day',\n",
       " 'thailand',\n",
       " 'april',\n",
       " 'day',\n",
       " 'maternity',\n",
       " 'beauty',\n",
       " 'armenia',\n",
       " 'april',\n",
       " 'genocide',\n",
       " 'memorial',\n",
       " 'day',\n",
       " 'rwanda',\n",
       " 'april',\n",
       " 'world',\n",
       " 'health',\n",
       " 'day',\n",
       " 'april',\n",
       " 'women',\n",
       " 'day',\n",
       " 'mozambique',\n",
       " 'april',\n",
       " 'buddha',\n",
       " 'birthday',\n",
       " 'buddhism',\n",
       " 'april',\n",
       " 'martyrs',\n",
       " 'day',\n",
       " 'tunisia',\n",
       " 'april',\n",
       " 'day',\n",
       " 'of',\n",
       " 'national',\n",
       " 'unity',\n",
       " 'georgia',\n",
       " 'april',\n",
       " 'day',\n",
       " 'finnish',\n",
       " 'language',\n",
       " 'april',\n",
       " 'cosmonauts',\n",
       " 'day',\n",
       " 'russia',\n",
       " 'marking',\n",
       " 'day',\n",
       " 'yuri',\n",
       " 'gagarin',\n",
       " 'space',\n",
       " 'flight',\n",
       " 'april',\n",
       " 'laos',\n",
       " 'local',\n",
       " 'new',\n",
       " 'year',\n",
       " 'celebration',\n",
       " 'april',\n",
       " 'cambodian',\n",
       " 'new',\n",
       " 'year',\n",
       " 'april',\n",
       " 'thomas',\n",
       " 'jefferson',\n",
       " 'birthday',\n",
       " 'united',\n",
       " 'states',\n",
       " 'april',\n",
       " 'southeast',\n",
       " 'asian',\n",
       " 'new',\n",
       " 'year',\n",
       " 'festivals',\n",
       " 'including',\n",
       " 'songkran',\n",
       " 'april',\n",
       " 'georgian',\n",
       " 'language',\n",
       " 'day',\n",
       " 'april',\n",
       " 'youth',\n",
       " 'day',\n",
       " 'angola',\n",
       " 'april',\n",
       " 'ambedkar',\n",
       " 'india',\n",
       " 'april',\n",
       " 'pan',\n",
       " 'american',\n",
       " 'day',\n",
       " 'april',\n",
       " 'tax',\n",
       " 'day',\n",
       " 'united',\n",
       " 'states',\n",
       " 'april',\n",
       " 'kim',\n",
       " 'il',\n",
       " 'sung',\n",
       " 'birthday',\n",
       " 'north',\n",
       " 'korea',\n",
       " 'april',\n",
       " 'father',\n",
       " 'damien',\n",
       " 'day',\n",
       " 'hawaii',\n",
       " 'april',\n",
       " 'jackie',\n",
       " 'robinson',\n",
       " 'day',\n",
       " 'major',\n",
       " 'league',\n",
       " 'baseball',\n",
       " 'april',\n",
       " 'birthday',\n",
       " 'of',\n",
       " 'queen',\n",
       " 'margrethe',\n",
       " 'ii',\n",
       " 'denmark',\n",
       " 'april',\n",
       " 'emancipation',\n",
       " 'day',\n",
       " 'washington',\n",
       " 'dc',\n",
       " 'april',\n",
       " 'world',\n",
       " 'voice',\n",
       " 'day',\n",
       " 'april',\n",
       " 'selena',\n",
       " 'day',\n",
       " 'texas',\n",
       " 'april',\n",
       " 'national',\n",
       " 'day',\n",
       " 'syria',\n",
       " 'april',\n",
       " 'flag',\n",
       " 'day',\n",
       " 'american',\n",
       " 'samoa',\n",
       " 'april',\n",
       " 'women',\n",
       " 'day',\n",
       " 'gabon',\n",
       " 'april',\n",
       " 'world',\n",
       " 'hemophilia',\n",
       " 'day',\n",
       " 'april',\n",
       " 'independence',\n",
       " 'day',\n",
       " 'zimbabwe',\n",
       " 'april',\n",
       " 'invention',\n",
       " 'day',\n",
       " 'japan',\n",
       " 'april',\n",
       " 'international',\n",
       " 'day',\n",
       " 'monuments',\n",
       " 'and',\n",
       " 'sites',\n",
       " 'april',\n",
       " 'bicycle',\n",
       " 'day',\n",
       " 'april',\n",
       " 'dutch',\n",
       " 'american',\n",
       " 'friendship',\n",
       " 'day',\n",
       " 'april',\n",
       " 'birthday',\n",
       " 'king',\n",
       " 'mswati',\n",
       " 'iii',\n",
       " 'of',\n",
       " 'swaziland',\n",
       " 'april',\n",
       " 'patriots',\n",
       " 'day',\n",
       " 'massachusetts',\n",
       " 'maine',\n",
       " 'wisconsin',\n",
       " 'april',\n",
       " 'cannabis',\n",
       " 'culture',\n",
       " 'april',\n",
       " 'john',\n",
       " 'muir',\n",
       " 'day',\n",
       " 'california',\n",
       " 'april',\n",
       " 'san',\n",
       " 'jacinto',\n",
       " 'day',\n",
       " 'texas',\n",
       " 'april',\n",
       " 'kartini',\n",
       " 'day',\n",
       " 'indonesia',\n",
       " 'april',\n",
       " 'national',\n",
       " 'tree',\n",
       " 'planting',\n",
       " 'day',\n",
       " 'kenya',\n",
       " 'april',\n",
       " 'first',\n",
       " 'day',\n",
       " 'baha',\n",
       " 'faith',\n",
       " 'april',\n",
       " 'day',\n",
       " 'rastafari',\n",
       " 'movement',\n",
       " 'april',\n",
       " 'earth',\n",
       " 'day',\n",
       " 'april',\n",
       " 'discovery',\n",
       " 'day',\n",
       " 'brazil',\n",
       " 'april',\n",
       " 'saint',\n",
       " 'george',\n",
       " 'day',\n",
       " 'celebrating',\n",
       " 'patron',\n",
       " 'saint',\n",
       " 'several',\n",
       " 'countries',\n",
       " 'regions',\n",
       " 'cities',\n",
       " 'including',\n",
       " 'england',\n",
       " 'and',\n",
       " 'catalonia',\n",
       " 'april',\n",
       " 'world',\n",
       " 'book',\n",
       " 'day',\n",
       " 'april',\n",
       " 'national',\n",
       " 'sovereignty',\n",
       " 'children',\n",
       " 'day',\n",
       " 'turkey',\n",
       " 'april',\n",
       " 'democracy',\n",
       " 'day',\n",
       " 'nepal',\n",
       " 'april',\n",
       " 'genocide',\n",
       " 'day',\n",
       " 'armenia',\n",
       " 'april',\n",
       " 'republic',\n",
       " 'day',\n",
       " 'gambia',\n",
       " 'april',\n",
       " 'australia',\n",
       " 'new',\n",
       " 'zealand',\n",
       " 'celebrate',\n",
       " 'anzac',\n",
       " 'day',\n",
       " 'anzac',\n",
       " 'means',\n",
       " 'australian',\n",
       " 'new',\n",
       " 'zealand',\n",
       " 'army',\n",
       " 'corps',\n",
       " 'began',\n",
       " 'april',\n",
       " 'world',\n",
       " 'dna',\n",
       " 'day',\n",
       " 'april',\n",
       " 'world',\n",
       " 'malaria',\n",
       " 'day',\n",
       " 'april',\n",
       " 'flag',\n",
       " 'day',\n",
       " 'swaziland',\n",
       " 'faroe',\n",
       " 'islands',\n",
       " 'april',\n",
       " 'freedom',\n",
       " 'day',\n",
       " 'portugal',\n",
       " 'april',\n",
       " 'liberation',\n",
       " 'day',\n",
       " 'italy',\n",
       " 'april',\n",
       " 'army',\n",
       " 'day',\n",
       " 'north',\n",
       " 'korea',\n",
       " 'april',\n",
       " 'union',\n",
       " 'day',\n",
       " 'tanzania',\n",
       " 'april',\n",
       " 'confederate',\n",
       " 'memorial',\n",
       " 'day',\n",
       " 'texas',\n",
       " 'florida',\n",
       " 'april',\n",
       " 'independence',\n",
       " 'day',\n",
       " 'sierra',\n",
       " 'leone',\n",
       " 'togo',\n",
       " 'april',\n",
       " 'freedom',\n",
       " 'day',\n",
       " 'south',\n",
       " 'africa',\n",
       " 'april',\n",
       " 'world',\n",
       " 'tapir',\n",
       " 'day',\n",
       " 'april',\n",
       " 'king',\n",
       " 'day',\n",
       " 'netherlands',\n",
       " 'from',\n",
       " 'birthday',\n",
       " 'willem',\n",
       " 'alexander',\n",
       " 'netherlands',\n",
       " 'april',\n",
       " 'workers',\n",
       " 'memorial',\n",
       " 'day',\n",
       " 'april',\n",
       " 'national',\n",
       " 'day',\n",
       " 'sardinia',\n",
       " 'april',\n",
       " 'national',\n",
       " 'heroes',\n",
       " 'day',\n",
       " 'barbados',\n",
       " 'april',\n",
       " 'showa',\n",
       " 'day',\n",
       " 'japan',\n",
       " 'birthday',\n",
       " 'emperor',\n",
       " 'hirohito',\n",
       " 'who',\n",
       " 'died',\n",
       " 'in',\n",
       " 'april',\n",
       " 'international',\n",
       " 'dance',\n",
       " 'day',\n",
       " 'april',\n",
       " 'former',\n",
       " 'queen',\n",
       " 'day',\n",
       " 'holiday',\n",
       " 'netherlands',\n",
       " 'changed',\n",
       " 'king',\n",
       " 'day',\n",
       " 'april',\n",
       " 'was',\n",
       " 'birthday',\n",
       " 'former',\n",
       " 'queen',\n",
       " 'juliana',\n",
       " 'netherlands',\n",
       " 'april',\n",
       " 'flag',\n",
       " 'day',\n",
       " 'sweden',\n",
       " 'birthday',\n",
       " 'king',\n",
       " 'carl',\n",
       " 'xvi',\n",
       " 'gustaf',\n",
       " 'sweden',\n",
       " 'april',\n",
       " 'international',\n",
       " 'jazz',\n",
       " 'day',\n",
       " 'april',\n",
       " 'walpurgis',\n",
       " 'night',\n",
       " 'central',\n",
       " 'and',\n",
       " 'northern',\n",
       " 'europe',\n",
       " 'moveable',\n",
       " 'events',\n",
       " 'eggs',\n",
       " 'celebrating',\n",
       " 'easter',\n",
       " 'which',\n",
       " 'often',\n",
       " 'falls',\n",
       " 'in',\n",
       " 'april',\n",
       " 'but',\n",
       " 'sometimes',\n",
       " 'falls',\n",
       " 'march',\n",
       " 'image',\n",
       " 'traditionally',\n",
       " 'showing',\n",
       " 'it',\n",
       " 'as',\n",
       " 'raining',\n",
       " 'april',\n",
       " 'in',\n",
       " 'northern',\n",
       " 'hemisphere',\n",
       " 'easter',\n",
       " 'related',\n",
       " 'events',\n",
       " 'western',\n",
       " 'christianity',\n",
       " 'palm',\n",
       " 'sunday',\n",
       " 'between',\n",
       " 'march',\n",
       " 'april',\n",
       " 'maundy',\n",
       " 'thursday',\n",
       " 'between',\n",
       " 'march',\n",
       " 'april',\n",
       " 'good',\n",
       " 'friday',\n",
       " 'between',\n",
       " 'march',\n",
       " 'and',\n",
       " 'april',\n",
       " 'easter',\n",
       " 'sunday',\n",
       " 'between',\n",
       " 'march',\n",
       " 'april',\n",
       " 'easter',\n",
       " 'monday',\n",
       " 'between',\n",
       " 'march',\n",
       " 'and',\n",
       " 'april',\n",
       " 'eastern',\n",
       " 'orthodox',\n",
       " 'easter',\n",
       " 'falls',\n",
       " 'between',\n",
       " 'april',\n",
       " 'may',\n",
       " 'ascension',\n",
       " 'day',\n",
       " 'western',\n",
       " 'christianity',\n",
       " 'falls',\n",
       " 'between',\n",
       " 'april',\n",
       " 'and',\n",
       " 'june',\n",
       " 'jewish',\n",
       " 'passover',\n",
       " 'falls',\n",
       " 'in',\n",
       " 'the',\n",
       " 'same',\n",
       " 'week',\n",
       " 'western',\n",
       " 'christianity',\n",
       " 'holy',\n",
       " 'week',\n",
       " 'which',\n",
       " 'week',\n",
       " 'leading',\n",
       " 'up',\n",
       " 'easter',\n",
       " 'mother',\n",
       " 'day',\n",
       " 'uk',\n",
       " 'falls',\n",
       " 'between',\n",
       " 'march',\n",
       " 'and',\n",
       " 'april',\n",
       " 'world',\n",
       " 'snooker',\n",
       " 'championship',\n",
       " 'late',\n",
       " 'april',\n",
       " 'early',\n",
       " 'may',\n",
       " 'horse',\n",
       " 'racing',\n",
       " 'grand',\n",
       " 'national',\n",
       " 'uk',\n",
       " 'kentucky',\n",
       " 'derby',\n",
       " 'united',\n",
       " 'states',\n",
       " 'start',\n",
       " 'daylight',\n",
       " 'saving',\n",
       " 'time',\n",
       " 'clocks',\n",
       " 'going',\n",
       " 'forward',\n",
       " 'one',\n",
       " ...]"
      ]
     },
     "execution_count": 154,
     "metadata": {},
     "output_type": "execute_result"
    }
   ],
   "source": [
    "[vocab.get_token(x) for x in sub_tokens[0]]"
   ]
  },
  {
   "cell_type": "code",
   "execution_count": 148,
   "metadata": {},
   "outputs": [
    {
     "data": {
      "text/plain": [
       "matrix([[    0, 67017, 67016, ..., 12819, 48338, 94804]], dtype=int64)"
      ]
     },
     "execution_count": 148,
     "metadata": {},
     "output_type": "execute_result"
    }
   ],
   "source": [
    "np.argsort(token_doc_matrix[10661].todense())"
   ]
  },
  {
   "cell_type": "code",
   "execution_count": 165,
   "metadata": {},
   "outputs": [
    {
     "name": "stderr",
     "output_type": "stream",
     "text": [
      "D:\\Anaconda3\\envs\\dlenv\\lib\\site-packages\\ipykernel_launcher.py:3: RuntimeWarning: invalid value encountered in true_divide\n",
      "  This is separate from the ipykernel package so we can avoid doing imports until\n"
     ]
    }
   ],
   "source": [
    "word = model.eval().encoder.forward(torch.Tensor(np.asarray([1])).long().to(\"cuda\"),torch.Tensor(np.asarray([0])).long().to(\"cuda\"))[0].data.to(\"cpu\").numpy()[0]\n",
    "word = word/np.sqrt(np.sum(np.dot(word,word)))\n",
    "normalized = np.divide(word_meaning,np.sqrt(np.sum(np.multiply(word_meaning,word_meaning),axis = 1)).reshape(-1,1))\n",
    "dist = np.matmul(normalized,word)"
   ]
  },
  {
   "cell_type": "code",
   "execution_count": 166,
   "metadata": {},
   "outputs": [
    {
     "name": "stdout",
     "output_type": "stream",
     "text": [
      "professionally\n",
      "underdog\n",
      "samantha\n",
      "sportswriters\n",
      "narcos\n",
      "kardashian\n",
      "shocker\n",
      "weppes\n",
      "glima\n",
      "congestive\n",
      "ría\n",
      "diski\n",
      "nominations\n",
      "appearances\n",
      "rafinha\n",
      "jon\n",
      "role\n",
      "paige\n",
      "ostrevent\n",
      "ejaculating\n",
      "lung\n",
      "unforgettable\n",
      "sandler\n",
      "tshabalala\n",
      "datagrams\n",
      "avn\n",
      "wayans\n",
      "sexay\n",
      "goldblum\n",
      "stroke\n",
      "illness\n",
      "maxine\n",
      "kris\n",
      "courtney\n",
      "achtung\n",
      "rubin\n",
      "fleance\n",
      "psb\n",
      "sundre\n",
      "donny\n",
      "diagnosed\n",
      "moir\n",
      "janner\n",
      "wilhelmus\n",
      "gordy\n",
      "edvard\n",
      "djawadi\n",
      "kateřina\n",
      "wynonna\n",
      "liza\n"
     ]
    }
   ],
   "source": [
    "for x in np.argsort(-dist)[:50]:\n",
    "    print(vocab.get_token(x))"
   ]
  },
  {
   "cell_type": "code",
   "execution_count": null,
   "metadata": {},
   "outputs": [],
   "source": []
  }
 ],
 "metadata": {
  "kernelspec": {
   "display_name": "Python 3",
   "language": "python",
   "name": "python3"
  },
  "language_info": {
   "codemirror_mode": {
    "name": "ipython",
    "version": 3
   },
   "file_extension": ".py",
   "mimetype": "text/x-python",
   "name": "python",
   "nbconvert_exporter": "python",
   "pygments_lexer": "ipython3",
   "version": "3.6.9"
  }
 },
 "nbformat": 4,
 "nbformat_minor": 2
}
